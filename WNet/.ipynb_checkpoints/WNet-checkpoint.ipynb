{
 "cells": [
  {
   "cell_type": "markdown",
   "metadata": {
    "id": "DExvdXu1e1n8"
   },
   "source": [
    "# Combined W-Model"
   ]
  },
  {
   "cell_type": "code",
   "execution_count": 1,
   "metadata": {
    "colab": {
     "base_uri": "https://localhost:8080/"
    },
    "executionInfo": {
     "elapsed": 39614,
     "status": "ok",
     "timestamp": 1682637164902,
     "user": {
      "displayName": "Leo Dupire",
      "userId": "02301275893739117839"
     },
     "user_tz": 240
    },
    "id": "kE3SU9h4etQC",
    "outputId": "1547a6db-3ae9-4f5c-ea51-e7cf718b7265"
   },
   "outputs": [],
   "source": [
    "# from google.colab import drive\n",
    "# drive.mount('/content/gdrive')\n",
    "# %cd /content/gdrive/MyDrive/Projects/Collision-Prediction/"
   ]
  },
  {
   "cell_type": "code",
   "execution_count": 2,
   "metadata": {
    "cellView": "form",
    "colab": {
     "base_uri": "https://localhost:8080/"
    },
    "executionInfo": {
     "elapsed": 4862,
     "status": "ok",
     "timestamp": 1682637169761,
     "user": {
      "displayName": "Leo Dupire",
      "userId": "02301275893739117839"
     },
     "user_tz": 240
    },
    "id": "6K6MvY6efNH9",
    "outputId": "c398e232-1476-41aa-e327-1063b658dff3"
   },
   "outputs": [
    {
     "name": "stdout",
     "output_type": "stream",
     "text": [
      "cuda\n"
     ]
    }
   ],
   "source": [
    "#@title Imports\n",
    "import os\n",
    "import random\n",
    "import numpy as np\n",
    "import imageio.v3 as iio\n",
    "import matplotlib.pyplot as plt\n",
    "from tqdm.notebook import tqdm\n",
    "\n",
    "## PyTorch\n",
    "import torch\n",
    "import torch.nn as nn\n",
    "import torch.nn.functional as F\n",
    "\n",
    "# Torchvision\n",
    "import torchvision\n",
    "from torch.utils.data import Dataset\n",
    "from torchvision import transforms\n",
    "import torchvision.transforms as T\n",
    "\n",
    "from UNet_Masker import UNet_Masker\n",
    "from UNet_Predictor import UNet_Predictor\n",
    "\n",
    "device = torch.device(\"cuda\" if torch.cuda.is_available() else \"cpu\")\n",
    "print(device)"
   ]
  },
  {
   "cell_type": "markdown",
   "metadata": {
    "id": "vGYnfO6RlWCV"
   },
   "source": [
    "## Data"
   ]
  },
  {
   "cell_type": "code",
   "execution_count": 3,
   "metadata": {
    "executionInfo": {
     "elapsed": 8,
     "status": "ok",
     "timestamp": 1682637169762,
     "user": {
      "displayName": "Leo Dupire",
      "userId": "02301275893739117839"
     },
     "user_tz": 240
    },
    "id": "Ifo3k0iQlVvn"
   },
   "outputs": [],
   "source": [
    "# test_imgs = torch.load('data/hidden_imgs.pt')\n",
    "# print(test_imgs.shape)"
   ]
  },
  {
   "cell_type": "code",
   "execution_count": null,
   "metadata": {
    "colab": {
     "base_uri": "https://localhost:8080/"
    },
    "executionInfo": {
     "elapsed": 390651,
     "status": "ok",
     "timestamp": 1682637560405,
     "user": {
      "displayName": "Leo Dupire",
      "userId": "02301275893739117839"
     },
     "user_tz": 240
    },
    "id": "Y4FjhwRi_7vT",
    "outputId": "62e42b52-962b-48aa-c0dd-0051e22eddee"
   },
   "outputs": [],
   "source": [
    "train_imgs = torch.load('data/imgs.pt')\n",
    "train_masks = torch.load('data/masks.pt')\n",
    "print(\"Train\", train_imgs.shape)\n",
    "print(\"Train\", train_masks.shape)\n",
    "\n",
    "val_imgs = torch.load('data/val_imgs.pt')\n",
    "val_masks = torch.load('data/val_masks.pt')\n",
    "print(\"Val\", val_imgs.shape)\n",
    "print(\"Val\", val_masks.shape)"
   ]
  },
  {
   "cell_type": "code",
   "execution_count": null,
   "metadata": {
    "executionInfo": {
     "elapsed": 3,
     "status": "ok",
     "timestamp": 1682638528870,
     "user": {
      "displayName": "Leo Dupire",
      "userId": "02301275893739117839"
     },
     "user_tz": 240
    },
    "id": "RQwnjt3UltEC"
   },
   "outputs": [],
   "source": [
    "#@title Dataset Class & Loader\n",
    "class HiddenDataset(Dataset):\n",
    "  def __init__(self, imgs, mask=None, transform=False, val=False):\n",
    "    self.mask = mask\n",
    "    self.transform = transform\n",
    "    if val:\n",
    "      self.imgs = imgs.reshape(-1, 22, 160, 240, 3)\n",
    "    else:\n",
    "      self.imgs = imgs.reshape(-1, 11, 160, 240, 3)\n",
    "  \n",
    "  def __len__(self):\n",
    "    return len(self.imgs)\n",
    "\n",
    "  def __getitem__(self, index):\n",
    "    img = self.imgs[index].to(torch.uint8)\n",
    "    img = img.permute(0, 3, 1, 2).to(torch.float) / 255\n",
    "    img = (img - 0.5) / 2\n",
    "\n",
    "    if self.mask != None: # Basically: if val or train (these come with masks)\n",
    "      mask = self.mask[index]\n",
    "      if self.transform:\n",
    "        if random.random() > 0.5: # Horizontal flip both img and mask\n",
    "          img = torch.flip(img, dims=[3])\n",
    "          mask = torch.flip(mask, dims=[2])\n",
    "      return img, mask\n",
    "    else:\n",
    "      return img\n",
    "\n",
    "# Datasets\n",
    "train_dataset = HiddenDataset(train_imgs, mask=train_masks, transform=True, val=True)\n",
    "val_dataset = HiddenDataset(val_imgs, mask=val_masks, transform=True, val=True)\n",
    "val_test_dataset = HiddenDataset(val_imgs, mask=val_masks, val=True)\n",
    "# test_dataset = HiddenDataset(test_imgs)\n",
    "\n",
    "batch_size = 16\n",
    "# Data Loaders\n",
    "train_loader = torch.utils.data.DataLoader(\n",
    "    train_dataset, batch_size=batch_size, shuffle=True, drop_last=True)\n",
    "\n",
    "val_loader = torch.utils.data.DataLoader(\n",
    "    val_dataset, batch_size=batch_size)\n",
    "\n",
    "val_test_loader = torch.utils.data.DataLoader(\n",
    "    val_test_dataset, batch_size=batch_size)\n",
    "\n",
    "# test_loader = torch.utils.data.DataLoader(\n",
    "#     test_dataset, batch_size=batch_size)"
   ]
  },
  {
   "cell_type": "code",
   "execution_count": null,
   "metadata": {
    "executionInfo": {
     "elapsed": 1,
     "status": "ok",
     "timestamp": 1682638531158,
     "user": {
      "displayName": "Leo Dupire",
      "userId": "02301275893739117839"
     },
     "user_tz": 240
    },
    "id": "TgyjAauN6U5x"
   },
   "outputs": [],
   "source": [
    "def show_img(img, is_img=True):\n",
    "  if is_img:\n",
    "    plt.figure(figsize = (3, 1.5))\n",
    "    plt.imshow(img.detach().cpu())\n",
    "    plt.show()\n",
    "  else:\n",
    "    plt.figure(figsize = (3, 1.5))\n",
    "    plt.imshow(img.detach().cpu(), vmin=0, vmax=48)\n",
    "    plt.show()"
   ]
  },
  {
   "cell_type": "code",
   "execution_count": null,
   "metadata": {
    "executionInfo": {
     "elapsed": 338,
     "status": "ok",
     "timestamp": 1682639520074,
     "user": {
      "displayName": "Leo Dupire",
      "userId": "02301275893739117839"
     },
     "user_tz": 240
    },
    "id": "t5X2mS5JkH5D"
   },
   "outputs": [],
   "source": [
    "#@title W Model\n",
    "class W(nn.Module):\n",
    "    def __init__(self):\n",
    "        super().__init__()\n",
    "        self.masker_model = UNet_Masker()\n",
    "        self.predictor_model = UNet_Predictor()\n",
    "\n",
    "    # Load Masker and Predictor models (Combine 2 individually trained models)\n",
    "    def load(self, path1=None, path2=None):\n",
    "        if path1 != None:\n",
    "          self.masker_model.load_state_dict(torch.load(path1))\n",
    "        if path2 != None:\n",
    "          self.predictor_model.load_state_dict(torch.load(path2))\n",
    "\n",
    "    # We only really want to train the predictor\n",
    "    def freeze_masker(self):\n",
    "        for param in self.masker_model.parameters():\n",
    "          param.requires_grad = False\n",
    "\n",
    "    def melt_masker(self):\n",
    "        for param in self.masker_model.parameters():\n",
    "          param.requires_grad = True\n",
    "    \n",
    "    def forward(self, x, img_to_pred=22, analyse=False):\n",
    "        check = True\n",
    "        for i in range(11):\n",
    "          temp_x = x[:, i, :, :]\n",
    "          temp = self.masker_model(temp_x).argmax(1).unsqueeze(1)\n",
    "\n",
    "          if check:\n",
    "            m = temp\n",
    "            check = False\n",
    "          else:\n",
    "            m = torch.cat((m, temp), dim=1) # B x S x H x W\n",
    "\n",
    "        if analyse:\n",
    "          show_img(m[0][-1])\n",
    "          print()\n",
    "\n",
    "        for i in range(img_to_pred - 10):\n",
    "          out = self.predictor_model(m) # B x 1 x H x W\n",
    "          m = m[:, 1:, :, :] # Remove the first frame from mask_seq_test\n",
    "          next_mask = out.argmax(2) # Get the predicted mask of the next frame\n",
    "          m = torch.cat((m, next_mask), dim=1) # Append the predicted mask to mask_seq_test\n",
    "        \n",
    "        if analyse:\n",
    "          show_img(out[0][0].argmax(0)) # Prediction\n",
    "\n",
    "        return out"
   ]
  },
  {
   "cell_type": "code",
   "execution_count": null,
   "metadata": {
    "colab": {
     "base_uri": "https://localhost:8080/"
    },
    "executionInfo": {
     "elapsed": 1296,
     "status": "ok",
     "timestamp": 1682643830112,
     "user": {
      "displayName": "Leo Dupire",
      "userId": "02301275893739117839"
     },
     "user_tz": 240
    },
    "id": "vGZY2MailHCl",
    "outputId": "cb9a3f41-2ed6-4b52-f1dd-5c39e6ce244a"
   },
   "outputs": [],
   "source": [
    "model = W().to(device)\n",
    "model.load(path1=\"./masker_models/masker_1.pth\", path2=\"./predictor_models/predictor_3.pth\") # Load individual model weights\n",
    "# model.load_state_dict(torch.load(\"./W_models/best_WNet.pth\")) # LOAD TRAINED MODEL\n",
    "model.eval();\n",
    "\n",
    "input_tensor = train_dataset[0][0].unsqueeze(0)[:, :11, :, :].to(device)\n",
    "output = model(input_tensor)\n",
    "print(output.shape)\n",
    "print(f\"Number of Weights: {sum(p.numel() for p in model.parameters()):,}\")"
   ]
  },
  {
   "cell_type": "markdown",
   "metadata": {
    "id": "LhqllWz3jSs-"
   },
   "source": [
    "## Train"
   ]
  },
  {
   "cell_type": "code",
   "execution_count": 63,
   "metadata": {
    "executionInfo": {
     "elapsed": 333,
     "status": "ok",
     "timestamp": 1682639558243,
     "user": {
      "displayName": "Leo Dupire",
      "userId": "02301275893739117839"
     },
     "user_tz": 240
    },
    "id": "BALtDVsRkfTH"
   },
   "outputs": [],
   "source": [
    "import torch.optim as optim\n",
    "import torch.optim.lr_scheduler as lr_scheduler"
   ]
  },
  {
   "cell_type": "code",
   "execution_count": 68,
   "metadata": {
    "executionInfo": {
     "elapsed": 441,
     "status": "ok",
     "timestamp": 1682639724494,
     "user": {
      "displayName": "Leo Dupire",
      "userId": "02301275893739117839"
     },
     "user_tz": 240
    },
    "id": "_zQaUEUqkPGv"
   },
   "outputs": [],
   "source": [
    "optimizer = optim.Adam(model.parameters(), lr=1e-6)\n",
    "scheduler = lr_scheduler.ReduceLROnPlateau(optimizer, 'min', factor=0.1, patience=3, verbose=True)\n",
    "criterion = nn.CrossEntropyLoss()\n",
    "\n",
    "result = {\"train\": [], \"val\": []} # For tracking loss\n",
    "best_val = -1 # Negative as real val will be positive"
   ]
  },
  {
   "cell_type": "code",
   "execution_count": 69,
   "metadata": {
    "cellView": "form",
    "executionInfo": {
     "elapsed": 412,
     "status": "ok",
     "timestamp": 1682639729002,
     "user": {
      "displayName": "Leo Dupire",
      "userId": "02301275893739117839"
     },
     "user_tz": 240
    },
    "id": "0LKavAcPks_K"
   },
   "outputs": [],
   "source": [
    "#@title Display Mask Output Comparison\n",
    "def display_comp(model, index, img_to_pred=21, ds=\"val\"):\n",
    "  if ds == \"val\":\n",
    "    seq, targ = next(iter(val_loader))\n",
    "    seq = seq[index][:11]\n",
    "    targ = targ[index][img_to_pred, :, :]\n",
    "  elif ds == \"train\":\n",
    "    seq, targ = next(iter(train_loader))\n",
    "    seq = seq[index][:11]\n",
    "    targ = targ[index][img_to_pred, :, :]\n",
    "\n",
    "  pred_mask = model(seq.unsqueeze(0).to(device), img_to_pred=img_to_pred).argmax(2).squeeze(0).squeeze(0).cpu()\n",
    "\n",
    "  fig, axes = plt.subplots(1, 2, figsize=(6, 3))\n",
    "  axes[0].imshow(targ, vmin=0, vmax=48)\n",
    "  axes[1].imshow(pred_mask, vmin=0, vmax=48)\n",
    "  plt.show()"
   ]
  },
  {
   "cell_type": "code",
   "execution_count": 92,
   "metadata": {
    "cellView": "form",
    "colab": {
     "base_uri": "https://localhost:8080/",
     "height": 1000,
     "referenced_widgets": [
      "d21c915467fa45fcb258452637cd4c78",
      "f691c8de741c43db953ab76edd2c4059",
      "592d235c3bd542209fbcdc5c522a64a0",
      "04396944e2404f1092f59c1e8422cd36",
      "faa0392409de483a8f9251c6343a136d",
      "982fc7a605c24e8ba0078de70cc51d66",
      "17f451c1e7a44f868dec067a0903b7a4",
      "b1a7e7cf1bee4d49b45c4ee2b48865a7",
      "4e88cc0265194b0a85b52874f4677f4b",
      "8c6d87965fc948d39e12bfc0f430406e",
      "bb1b962262964c7ba00fc6c291d49190",
      "6aa1c7c971d74033a436d8ce690477f7",
      "4adb72a2013d422aa5f2c37b6754b5a5",
      "e25f58b676844963bdcfbfa2c40cff99",
      "336a065e35d9472f81b2ff41197cdcc6",
      "f923db702c324a41880445f6c4f9d251",
      "d432d1f0afca443187e25ee67b151268",
      "fe9935841bd14e4f8f9fe97c0aded680",
      "c4951d3f30584b83a5c61d2952085e28",
      "7d33231b32d24ddc979415e79dc8c059",
      "83427e4299494a3fb77c4558c0554056",
      "b2adfe21779e4a81ae7d27ebe73c39cd",
      "24cbd91d0f5443f59b6f2247c0d5e21d",
      "aedcccaa4f09452a8adf78260bb1e2da",
      "5cd2a030fef44390a07be79c788937f1",
      "e71dd31e70a54a4bb2fd96e5058d7c0b",
      "3d7aaadfe8a840b89dd04b95115600f3",
      "5df65a91d0f845bebba224c577354625",
      "27e8aaaf69964f2eb862dc3afe8b355e",
      "bf14e297c5624d83ab9ca5bf6bddaa88",
      "5da970d5fb7340209561312b439390b0",
      "624fdc1817a444d6b4c86f94d48cb5fb",
      "6e385c78414e4c289030683c412e947b",
      "d98f37c494ef4b98a49ac4f0ea0cf908",
      "4a767a50354841b089bb9f49b5099049",
      "78bdbb2cd9d2408c952e774129879a6c",
      "a240a33bed814c538f38526304a63e9e",
      "92a409afe2ef4f7c9852933b963d07f3",
      "2f47d9ba3fcf4896b30b6bc95eb6dfd4",
      "a96b617ca34641e8800f77cdc8362b7b",
      "7b66e37fd6c7433dbe43b6fe059f034f",
      "5b5003d471364d1aa7934152b7ec90a3",
      "a5e315ea2587405e9f201e3863a29b8b",
      "518ffcae3653475a893ab3199d3ea028",
      "47c31fc365524b10aec2495f2efe6aec",
      "52545ea9f6104c69822746982d666bea",
      "f33169c3bbb943e8834814dde66ffb06",
      "5ae29cadc6134a8e8f020a63df1981bb",
      "47599bd26ea5476b9d10d639294a13ab",
      "9ad49ca6aa0d4992a033dd5ef478ac7c",
      "e17066cbe7094c25aacc4104bd7aa2a2",
      "8775b50c3ad5463d999e2033ee3c0b70",
      "cf3dc2c912444246ba4b2b1a238d8cf8",
      "8712142753b64a0098bd340959b8a83c",
      "d414c181d06e42f09afe8f59e1cf4abd",
      "ade3994f032348f496aa854471fa456b",
      "b9cb16031031497093fc05b58866de38",
      "d4a18b607e914014a5fff986d335b135",
      "14bacf89deae48da93247926d189c3ad",
      "ea473a31e06a4d69aaffa71e26729cdf",
      "84b68ac3c03e4b2c9637c8cba16fcbe9",
      "c18b287f15734031a23fba7399dbd124",
      "939b275009c6431ba815e10c5b8a31ab",
      "11bf9ce8b77442dfb4db59d431d020b5",
      "3d28f357f41a439dbb58e92e56c78312",
      "7cff7e6132da4bbf9547c947e398b9f1"
     ]
    },
    "executionInfo": {
     "elapsed": 467130,
     "status": "ok",
     "timestamp": 1682643705454,
     "user": {
      "displayName": "Leo Dupire",
      "userId": "02301275893739117839"
     },
     "user_tz": 240
    },
    "id": "rlxa-AoBjMez",
    "outputId": "01c36c28-74af-48ee-d942-94a056766852"
   },
   "outputs": [
    {
     "data": {
      "application/vnd.jupyter.widget-view+json": {
       "model_id": "d21c915467fa45fcb258452637cd4c78",
       "version_major": 2,
       "version_minor": 0
      },
      "text/plain": [
       "  0%|          | 0/5 [00:00<?, ?it/s]"
      ]
     },
     "metadata": {},
     "output_type": "display_data"
    },
    {
     "data": {
      "image/png": "[encoded data removed]",
      "text/plain": [
       "<Figure size 600x300 with 2 Axes>"
      ]
     },
     "metadata": {},
     "output_type": "display_data"
    },
    {
     "data": {
      "application/vnd.jupyter.widget-view+json": {
       "model_id": "6aa1c7c971d74033a436d8ce690477f7",
       "version_major": 2,
       "version_minor": 0
      },
      "text/plain": [
       "  0%|          | 0/62 [00:00<?, ?it/s]"
      ]
     },
     "metadata": {},
     "output_type": "display_data"
    },
    {
     "name": "stdout",
     "output_type": "stream",
     "text": [
      "\n",
      "Epoch 1 | Train: 0.483 | Val: 0.592\n"
     ]
    },
    {
     "data": {
      "image/png": "[encoded data removed]",
      "text/plain": [
       "<Figure size 600x300 with 2 Axes>"
      ]
     },
     "metadata": {},
     "output_type": "display_data"
    },
    {
     "data": {
      "application/vnd.jupyter.widget-view+json": {
       "model_id": "24cbd91d0f5443f59b6f2247c0d5e21d",
       "version_major": 2,
       "version_minor": 0
      },
      "text/plain": [
       "  0%|          | 0/62 [00:00<?, ?it/s]"
      ]
     },
     "metadata": {},
     "output_type": "display_data"
    },
    {
     "name": "stdout",
     "output_type": "stream",
     "text": [
      "\n",
      "Epoch 2 | Train: 0.482 | Val: 0.589\n"
     ]
    },
    {
     "data": {
      "image/png": "[encoded data removed]",
      "text/plain": [
       "<Figure size 600x300 with 2 Axes>"
      ]
     },
     "metadata": {},
     "output_type": "display_data"
    },
    {
     "data": {
      "application/vnd.jupyter.widget-view+json": {
       "model_id": "d98f37c494ef4b98a49ac4f0ea0cf908",
       "version_major": 2,
       "version_minor": 0
      },
      "text/plain": [
       "  0%|          | 0/62 [00:00<?, ?it/s]"
      ]
     },
     "metadata": {},
     "output_type": "display_data"
    },
    {
     "name": "stdout",
     "output_type": "stream",
     "text": [
      "\n",
      "Epoch 3 | Train: 0.479 | Val: 0.578\n"
     ]
    },
    {
     "data": {
      "image/png": "[encoded data removed]",
      "text/plain": [
       "<Figure size 600x300 with 2 Axes>"
      ]
     },
     "metadata": {},
     "output_type": "display_data"
    },
    {
     "data": {
      "application/vnd.jupyter.widget-view+json": {
       "model_id": "47c31fc365524b10aec2495f2efe6aec",
       "version_major": 2,
       "version_minor": 0
      },
      "text/plain": [
       "  0%|          | 0/62 [00:00<?, ?it/s]"
      ]
     },
     "metadata": {},
     "output_type": "display_data"
    },
    {
     "name": "stdout",
     "output_type": "stream",
     "text": [
      "\n",
      "Epoch 4 | Train: 0.483 | Val: 0.600\n"
     ]
    },
    {
     "data": {
      "image/png": "[encoded data removed]",
      "text/plain": [
       "<Figure size 600x300 with 2 Axes>"
      ]
     },
     "metadata": {},
     "output_type": "display_data"
    },
    {
     "data": {
      "application/vnd.jupyter.widget-view+json": {
       "model_id": "ade3994f032348f496aa854471fa456b",
       "version_major": 2,
       "version_minor": 0
      },
      "text/plain": [
       "  0%|          | 0/62 [00:00<?, ?it/s]"
      ]
     },
     "metadata": {},
     "output_type": "display_data"
    },
    {
     "name": "stdout",
     "output_type": "stream",
     "text": [
      "\n",
      "Epoch 5 | Train: 0.479 | Val: 0.599\n"
     ]
    },
    {
     "data": {
      "image/png": "[encoded data removed]",
      "text/plain": [
       "<Figure size 600x300 with 2 Axes>"
      ]
     },
     "metadata": {},
     "output_type": "display_data"
    }
   ],
   "source": [
    "#@title Training Function\n",
    "num_epochs = 5\n",
    "img_to_pred = 21 # Which image to predict. Options: [11; 21] (index starting from 0)\n",
    "\n",
    "def get_loss(input, targ, optimizer=None):\n",
    "  pred = model(input, img_to_pred=img_to_pred).squeeze(1)\n",
    "  loss = criterion(pred, targ.long())\n",
    "\n",
    "  if optimizer is not None:\n",
    "    optimizer.zero_grad()\n",
    "    loss.backward()\n",
    "    optimizer.step()\n",
    "  return loss\n",
    "\n",
    "model.freeze_masker() # Freeze masker: Only training the predictor\n",
    "for epoch in tqdm(range(1, num_epochs+1), leave=False): # Train on several epochs\n",
    "  with torch.no_grad():\n",
    "    display_comp(model, 0, img_to_pred=img_to_pred)\n",
    "\n",
    "  total_train_loss = 0\n",
    "  model.train()\n",
    "  for batch, targ in tqdm(train_loader, leave=False):\n",
    "      total_train_loss += get_loss(batch[:, :11].to(device), targ[:, img_to_pred].to(device), optimizer=optimizer)\n",
    "  train_loss = total_train_loss.item() / len(train_loader)\n",
    "  result[\"train\"].append(train_loss)\n",
    "\n",
    "  # Test model on validation\n",
    "  with torch.no_grad():\n",
    "    val_result = 0\n",
    "    count = 0\n",
    "    model.eval()\n",
    "    total_val_loss = 0\n",
    "    for batch, targ in val_loader:\n",
    "      total_val_loss += get_loss(batch[:, :11].to(device), targ[:, img_to_pred].to(device)) * batch.size(0)\n",
    "      count += batch.size(0)\n",
    "\n",
    "    val_result = total_val_loss.item() / count\n",
    "    result[\"val\"].append(val_result)\n",
    "    print()\n",
    "    print(f\"Epoch {epoch} | Train: {train_loss:.3f} | Val: {val_result:.3f}\")\n",
    "\n",
    "    if (best_val == -1) or (val_result < best_val):\n",
    "        best_val = val_result\n",
    "        torch.save(model.state_dict(), \"./W_models/best_WNet.pth\")\n",
    "\n",
    "  scheduler.step(total_val_loss)\n",
    "\n",
    "with torch.no_grad():\n",
    "  display_comp(model, 0, img_to_pred=img_to_pred)\n",
    "model.melt_masker() # Unfreeze masker"
   ]
  },
  {
   "cell_type": "code",
   "execution_count": 93,
   "metadata": {
    "colab": {
     "base_uri": "https://localhost:8080/",
     "height": 411
    },
    "executionInfo": {
     "elapsed": 392,
     "status": "ok",
     "timestamp": 1682643736214,
     "user": {
      "displayName": "Leo Dupire",
      "userId": "02301275893739117839"
     },
     "user_tz": 240
    },
    "id": "uoH9mj9KLYHh",
    "outputId": "424a9c4b-b07a-42ff-8da2-e599b662e40e"
   },
   "outputs": [
    {
     "data": {
      "image/png": "[encoded data removed]",
      "text/plain": [
       "<Figure size 600x400 with 1 Axes>"
      ]
     },
     "metadata": {},
     "output_type": "display_data"
    }
   ],
   "source": [
    "fig_prog = plt.figure(figsize=(6,4))\n",
    "\n",
    "plt.plot(range(1, len(result[\"train\"])+1), result[\"train\"], label=\"Train\")\n",
    "plt.plot(range(1, len(result[\"val\"])+1), result[\"val\"], label=\"Val\")\n",
    "plt.title(\"Reconstruction error over epoch\", fontsize=14)\n",
    "plt.xlabel(\"Epoch\")\n",
    "plt.ylabel(\"Loss\")\n",
    "plt.legend()\n",
    "plt.show()"
   ]
  },
  {
   "cell_type": "code",
   "execution_count": 94,
   "metadata": {
    "colab": {
     "base_uri": "https://localhost:8080/",
     "height": 346
    },
    "executionInfo": {
     "elapsed": 4197,
     "status": "ok",
     "timestamp": 1682643744551,
     "user": {
      "displayName": "Leo Dupire",
      "userId": "02301275893739117839"
     },
     "user_tz": 240
    },
    "id": "crHqcaKDWy9_",
    "outputId": "5d130ee9-f4dc-416e-f8c9-2f883f8d108c"
   },
   "outputs": [
    {
     "name": "stdout",
     "output_type": "stream",
     "text": [
      "torch.Size([11, 22, 3, 160, 240])\n"
     ]
    },
    {
     "data": {
      "image/png": "[encoded data removed]",
      "text/plain": [
       "<Figure size 3200x1200 with 22 Axes>"
      ]
     },
     "metadata": {},
     "output_type": "display_data"
    }
   ],
   "source": [
    "# img_last = img_22.cpu().squeeze(0).squeeze(0)\n",
    "batch, targ = next(iter(val_loader))\n",
    "batch = batch[:][:11]\n",
    "targ = targ[:][:11]\n",
    "print(batch.shape)\n",
    "# targ = val_dataset[index][1][img_to_pred, :, :]\n",
    "\n",
    "fig, axes = plt.subplots(nrows=2, ncols=11, figsize=(32, 12))\n",
    "for i in range(11):\n",
    "  axes[0][i].imshow((batch[2, i].permute(1, 2, 0)*2+0.5).cpu())\n",
    "  axes[1][i].imshow((targ[2, i]).cpu())\n",
    "  # axes[i].set_title(f\"Image {i}\")\n",
    "\n",
    "# axes[11].imshow(img_last[0].argmax(1).squeeze(0), vmin=0, vmax=48)\n",
    "# axes[11].set_title(\"Prediction\")\n",
    "plt.show()"
   ]
  },
  {
   "cell_type": "markdown",
   "metadata": {
    "id": "2vkkxv4OjM4L"
   },
   "source": [
    "## Results"
   ]
  },
  {
   "cell_type": "code",
   "execution_count": 102,
   "metadata": {
    "colab": {
     "base_uri": "https://localhost:8080/",
     "height": 598
    },
    "executionInfo": {
     "elapsed": 965,
     "status": "ok",
     "timestamp": 1682644016651,
     "user": {
      "displayName": "Leo Dupire",
      "userId": "02301275893739117839"
     },
     "user_tz": 240
    },
    "id": "tWfWLkmvCGbo",
    "outputId": "71b2adff-4f85-46e7-ad4b-ad9982fd1966"
   },
   "outputs": [
    {
     "name": "stdout",
     "output_type": "stream",
     "text": [
      "\n",
      "torch.Size([1, 22, 3, 160, 240])\n",
      "torch.Size([1, 22, 160, 240])\n"
     ]
    },
    {
     "data": {
      "image/png": "[encoded data removed]",
      "text/plain": [
       "<Figure size 300x150 with 1 Axes>"
      ]
     },
     "metadata": {},
     "output_type": "display_data"
    },
    {
     "name": "stdout",
     "output_type": "stream",
     "text": [
      "\n"
     ]
    },
    {
     "data": {
      "image/png": "[encoded data removed]",
      "text/plain": [
       "<Figure size 300x150 with 1 Axes>"
      ]
     },
     "metadata": {},
     "output_type": "display_data"
    },
    {
     "name": "stdout",
     "output_type": "stream",
     "text": [
      "\n"
     ]
    },
    {
     "data": {
      "image/png": "[encoded data removed]",
      "text/plain": [
       "<Figure size 300x150 with 1 Axes>"
      ]
     },
     "metadata": {},
     "output_type": "display_data"
    }
   ],
   "source": [
    "#@title View example on Validation (with target)\n",
    "#TOP: img #11, MID: pred for #22, BOT: true #22\n",
    "img_to_pred = 21\n",
    "index = 150\n",
    "val_ex = val_test_dataset[index]\n",
    "# print(val_ex[1].shape)\n",
    "print()\n",
    "val_img_ex = val_ex[0].unsqueeze(0).to(device)\n",
    "val_mask_ex = val_ex[1].unsqueeze(0).to(device)\n",
    "print(val_img_ex.shape)\n",
    "print(val_mask_ex.shape)\n",
    "# show_img((val_img_ex[0, 10].permute(1, 2, 0)*2+0.5).cpu())\n",
    "# show_img(val_mask_ex[0, 10], is_img=False)\n",
    "output = model(val_img_ex, img_to_pred=img_to_pred, analyse=True)\n",
    "print()\n",
    "show_img(val_mask_ex[0, -1], is_img=False)\n",
    "# show_img(val_tensor[0, -1].permute(1, 2, 0)*2+0.5)"
   ]
  },
  {
   "cell_type": "code",
   "execution_count": 96,
   "metadata": {
    "colab": {
     "base_uri": "https://localhost:8080/",
     "height": 105
    },
    "executionInfo": {
     "elapsed": 2814,
     "status": "ok",
     "timestamp": 1682643751227,
     "user": {
      "displayName": "Leo Dupire",
      "userId": "02301275893739117839"
     },
     "user_tz": 240
    },
    "id": "BgekQ5N7BUCp",
    "outputId": "be9aeda0-83c4-4b41-a303-526d56241e08"
   },
   "outputs": [
    {
     "data": {
      "image/png": "[encoded data removed]",
      "text/plain": [
       "<Figure size 3200x1200 with 11 Axes>"
      ]
     },
     "metadata": {},
     "output_type": "display_data"
    }
   ],
   "source": [
    "fig, axes = plt.subplots(ncols=11, figsize=(32, 12))\n",
    "for i in range(11):\n",
    "  axes[i].imshow((val_mask_ex[0, i]).cpu())\n",
    "  axes[i].set_title(f\"Mask {i}\")\n",
    "\n",
    "# axes[11].imshow(img_last[0].argmax(1).squeeze(0), vmin=0, vmax=48)\n",
    "# axes[11].set_title(\"Prediction\")\n",
    "plt.show()"
   ]
  },
  {
   "cell_type": "markdown",
   "metadata": {
    "id": "phu6zEYpMRt0"
   },
   "source": [
    "## Generate & Save"
   ]
  },
  {
   "cell_type": "code",
   "execution_count": 100,
   "metadata": {
    "colab": {
     "base_uri": "https://localhost:8080/",
     "height": 35,
     "referenced_widgets": [
      "e6df893b5d664431a96abe661c5a6a98",
      "af9181afa9f149d9964d41577a5b6c72",
      "744b1c06997945e8a4a3b64ec67d6ac5",
      "dff083c5beaf42a6946c7c71c91545a8",
      "7e1f3e7439504f738680c5c8d3afefaf",
      "74f67d3fe4cb4867869b3d397daf0915",
      "11e88a2528f04fc8a4c55c8dc21ecd6a",
      "19f1e849e2e14773aacd7d08cef10bcb",
      "1fb35f9948ea4c3984dfe3ea7f35397a",
      "e248c3e561d2431b9c9e963e9ffe7879",
      "9fd735fbb47a4242bae5ae856a0ca642"
     ]
    },
    "executionInfo": {
     "elapsed": 44025,
     "status": "ok",
     "timestamp": 1682643879820,
     "user": {
      "displayName": "Leo Dupire",
      "userId": "02301275893739117839"
     },
     "user_tz": 240
    },
    "id": "W8MAX92XGWF8",
    "outputId": "4c763bb2-30ea-4687-9c2d-53bf9eea3ec9"
   },
   "outputs": [
    {
     "data": {
      "application/vnd.jupyter.widget-view+json": {
       "model_id": "e6df893b5d664431a96abe661c5a6a98",
       "version_major": 2,
       "version_minor": 0
      },
      "text/plain": [
       "  0%|          | 0/63 [00:00<?, ?it/s]"
      ]
     },
     "metadata": {},
     "output_type": "display_data"
    },
    {
     "name": "stdout",
     "output_type": "stream",
     "text": [
      "torch.Size([1000, 160, 240])\n"
     ]
    }
   ],
   "source": [
    "#@title Generate\n",
    "loader = val_test_loader # Change loader according to desired Dataset\n",
    "with torch.no_grad():\n",
    "  model.eval();\n",
    "  generations = []\n",
    "  for batch, targ in tqdm(loader, leave=False):\n",
    "      img_22 = model(batch.to(device)).argmax(2).squeeze(1)\n",
    "      generations.append(img_22)\n",
    "  gen = torch.cat(generations, dim=0)\n",
    "  print(gen.shape)"
   ]
  },
  {
   "cell_type": "code",
   "execution_count": 87,
   "metadata": {
    "executionInfo": {
     "elapsed": 2,
     "status": "ok",
     "timestamp": 1682612354243,
     "user": {
      "displayName": "Leo Dupire",
      "userId": "02301275893739117839"
     },
     "user_tz": 240
    },
    "id": "thwfTkeMi044"
   },
   "outputs": [],
   "source": [
    "#@title Show an example\n",
    "# img_last = img_22.cpu().squeeze(0)\n",
    "# print(img_last.shape)\n",
    "# fig, axes = plt.subplots(ncols=12, figsize=(32, 12))\n",
    "# for i in range(11):\n",
    "#   axes[i].imshow((batch[0, i].permute(1, 2, 0)*2+0.5).cpu())\n",
    "#   axes[i].set_title(f\"Image {i}\")\n",
    "\n",
    "# axes[11].imshow(img_last[0].argmax(1).squeeze(0), vmin=0, vmax=48)\n",
    "# axes[11].set_title(\"Prediction\")\n",
    "# plt.show()"
   ]
  },
  {
   "cell_type": "code",
   "execution_count": null,
   "metadata": {
    "id": "9b_a7EazLyTf"
   },
   "outputs": [],
   "source": [
    "title = \"test_1\"\n",
    "torch.save(gen, f'predictions/{title}.pt')"
   ]
  },
  {
   "cell_type": "markdown",
   "metadata": {
    "id": "YL2cRgm1NCmJ"
   },
   "source": [
    "## Evaluate"
   ]
  },
  {
   "cell_type": "code",
   "execution_count": 47,
   "metadata": {
    "colab": {
     "base_uri": "https://localhost:8080/"
    },
    "executionInfo": {
     "elapsed": 6,
     "status": "ok",
     "timestamp": 1682638846328,
     "user": {
      "displayName": "Leo Dupire",
      "userId": "02301275893739117839"
     },
     "user_tz": 240
    },
    "id": "Nmfgaax4Eg2_",
    "outputId": "b2aef515-cd42-469d-e277-ddefe2e699ba"
   },
   "outputs": [
    {
     "name": "stdout",
     "output_type": "stream",
     "text": [
      "Installing collected packages: torchmetrics\n",
      "Successfully installed torchmetrics-0.11.4\n"
     ]
    }
   ],
   "source": [
    "!pip install torchmetrics\n",
    "import torchmetrics"
   ]
  },
  {
   "cell_type": "code",
   "execution_count": 101,
   "metadata": {
    "colab": {
     "base_uri": "https://localhost:8080/"
    },
    "executionInfo": {
     "elapsed": 2053,
     "status": "ok",
     "timestamp": 1682643885604,
     "user": {
      "displayName": "Leo Dupire",
      "userId": "02301275893739117839"
     },
     "user_tz": 240
    },
    "id": "0ozpyuCiEUf6",
    "outputId": "be3d11a0-2d0c-4964-9711-4ce75d40f6ad"
   },
   "outputs": [
    {
     "data": {
      "text/plain": [
       "tensor(0.3643)"
      ]
     },
     "execution_count": 101,
     "metadata": {},
     "output_type": "execute_result"
    }
   ],
   "source": [
    "jaccard = torchmetrics.JaccardIndex(task=\"multiclass\", num_classes=49)\n",
    "jaccard(torch.Tensor(gen.cpu()), torch.Tensor(val_masks[:, -1]))"
   ]
  },
  {
   "cell_type": "markdown",
   "metadata": {
    "id": "hQ7tKe_lg7c6"
   },
   "source": [
    "tensor(0.3643): Trained it as WNet with frozen Masker. Why did it get worse?\n",
    "\n",
    "tensor(0.3773): Trained predictor on augmented data\n",
    "\n",
    "tensor(0.2842): Initial model"
   ]
  }
 ],
 "metadata": {
  "accelerator": "GPU",
  "colab": {
   "collapsed_sections": [
    "LhqllWz3jSs-"
   ],
   "machine_shape": "hm",
   "provenance": []
  },
  "gpuClass": "premium",
  "kernelspec": {
   "display_name": "Python 3 (ipykernel)",
   "language": "python",
   "name": "python3"
  },
  "language_info": {
   "codemirror_mode": {
    "name": "ipython",
    "version": 3
   },
   "file_extension": ".py",
   "mimetype": "text/x-python",
   "name": "python",
   "nbconvert_exporter": "python",
   "pygments_lexer": "ipython3",
   "version": "3.10.6"
  },
  "widgets": {
   "application/vnd.jupyter.widget-state+json": {
    "04396944e2404f1092f59c1e8422cd36": {
     "model_module": "@jupyter-widgets/controls",
     "model_module_version": "1.5.0",
     "model_name": "HTMLModel",
     "state": {
      "_dom_classes": [],
      "_model_module": "@jupyter-widgets/controls",
      "_model_module_version": "1.5.0",
      "_model_name": "HTMLModel",
      "_view_count": null,
      "_view_module": "@jupyter-widgets/controls",
      "_view_module_version": "1.5.0",
      "_view_name": "HTMLView",
      "description": "",
      "description_tooltip": null,
      "layout": "IPY_MODEL_8c6d87965fc948d39e12bfc0f430406e",
      "placeholder": "​",
      "style": "IPY_MODEL_bb1b962262964c7ba00fc6c291d49190",
      "value": " 5/5 [07:46&lt;00:00, 93.25s/it]"
     }
    },
    "11bf9ce8b77442dfb4db59d431d020b5": {
     "model_module": "@jupyter-widgets/controls",
     "model_module_version": "1.5.0",
     "model_name": "ProgressStyleModel",
     "state": {
      "_model_module": "@jupyter-widgets/controls",
      "_model_module_version": "1.5.0",
      "_model_name": "ProgressStyleModel",
      "_view_count": null,
      "_view_module": "@jupyter-widgets/base",
      "_view_module_version": "1.2.0",
      "_view_name": "StyleView",
      "bar_color": null,
      "description_width": ""
     }
    },
    "11e88a2528f04fc8a4c55c8dc21ecd6a": {
     "model_module": "@jupyter-widgets/controls",
     "model_module_version": "1.5.0",
     "model_name": "DescriptionStyleModel",
     "state": {
      "_model_module": "@jupyter-widgets/controls",
      "_model_module_version": "1.5.0",
      "_model_name": "DescriptionStyleModel",
      "_view_count": null,
      "_view_module": "@jupyter-widgets/base",
      "_view_module_version": "1.2.0",
      "_view_name": "StyleView",
      "description_width": ""
     }
    },
    "14bacf89deae48da93247926d189c3ad": {
     "model_module": "@jupyter-widgets/controls",
     "model_module_version": "1.5.0",
     "model_name": "HTMLModel",
     "state": {
      "_dom_classes": [],
      "_model_module": "@jupyter-widgets/controls",
      "_model_module_version": "1.5.0",
      "_model_name": "HTMLModel",
      "_view_count": null,
      "_view_module": "@jupyter-widgets/controls",
      "_view_module_version": "1.5.0",
      "_view_name": "HTMLView",
      "description": "",
      "description_tooltip": null,
      "layout": "IPY_MODEL_3d28f357f41a439dbb58e92e56c78312",
      "placeholder": "​",
      "style": "IPY_MODEL_7cff7e6132da4bbf9547c947e398b9f1",
      "value": " 62/62 [00:52&lt;00:00,  1.18it/s]"
     }
    },
    "17f451c1e7a44f868dec067a0903b7a4": {
     "model_module": "@jupyter-widgets/controls",
     "model_module_version": "1.5.0",
     "model_name": "DescriptionStyleModel",
     "state": {
      "_model_module": "@jupyter-widgets/controls",
      "_model_module_version": "1.5.0",
      "_model_name": "DescriptionStyleModel",
      "_view_count": null,
      "_view_module": "@jupyter-widgets/base",
      "_view_module_version": "1.2.0",
      "_view_name": "StyleView",
      "description_width": ""
     }
    },
    "19f1e849e2e14773aacd7d08cef10bcb": {
     "model_module": "@jupyter-widgets/base",
     "model_module_version": "1.2.0",
     "model_name": "LayoutModel",
     "state": {
      "_model_module": "@jupyter-widgets/base",
      "_model_module_version": "1.2.0",
      "_model_name": "LayoutModel",
      "_view_count": null,
      "_view_module": "@jupyter-widgets/base",
      "_view_module_version": "1.2.0",
      "_view_name": "LayoutView",
      "align_content": null,
      "align_items": null,
      "align_self": null,
      "border": null,
      "bottom": null,
      "display": null,
      "flex": null,
      "flex_flow": null,
      "grid_area": null,
      "grid_auto_columns": null,
      "grid_auto_flow": null,
      "grid_auto_rows": null,
      "grid_column": null,
      "grid_gap": null,
      "grid_row": null,
      "grid_template_areas": null,
      "grid_template_columns": null,
      "grid_template_rows": null,
      "height": null,
      "justify_content": null,
      "justify_items": null,
      "left": null,
      "margin": null,
      "max_height": null,
      "max_width": null,
      "min_height": null,
      "min_width": null,
      "object_fit": null,
      "object_position": null,
      "order": null,
      "overflow": null,
      "overflow_x": null,
      "overflow_y": null,
      "padding": null,
      "right": null,
      "top": null,
      "visibility": null,
      "width": null
     }
    },
    "1fb35f9948ea4c3984dfe3ea7f35397a": {
     "model_module": "@jupyter-widgets/controls",
     "model_module_version": "1.5.0",
     "model_name": "ProgressStyleModel",
     "state": {
      "_model_module": "@jupyter-widgets/controls",
      "_model_module_version": "1.5.0",
      "_model_name": "ProgressStyleModel",
      "_view_count": null,
      "_view_module": "@jupyter-widgets/base",
      "_view_module_version": "1.2.0",
      "_view_name": "StyleView",
      "bar_color": null,
      "description_width": ""
     }
    },
    "24cbd91d0f5443f59b6f2247c0d5e21d": {
     "model_module": "@jupyter-widgets/controls",
     "model_module_version": "1.5.0",
     "model_name": "HBoxModel",
     "state": {
      "_dom_classes": [],
      "_model_module": "@jupyter-widgets/controls",
      "_model_module_version": "1.5.0",
      "_model_name": "HBoxModel",
      "_view_count": null,
      "_view_module": "@jupyter-widgets/controls",
      "_view_module_version": "1.5.0",
      "_view_name": "HBoxView",
      "box_style": "",
      "children": [
       "IPY_MODEL_aedcccaa4f09452a8adf78260bb1e2da",
       "IPY_MODEL_5cd2a030fef44390a07be79c788937f1",
       "IPY_MODEL_e71dd31e70a54a4bb2fd96e5058d7c0b"
      ],
      "layout": "IPY_MODEL_3d7aaadfe8a840b89dd04b95115600f3"
     }
    },
    "27e8aaaf69964f2eb862dc3afe8b355e": {
     "model_module": "@jupyter-widgets/controls",
     "model_module_version": "1.5.0",
     "model_name": "DescriptionStyleModel",
     "state": {
      "_model_module": "@jupyter-widgets/controls",
      "_model_module_version": "1.5.0",
      "_model_name": "DescriptionStyleModel",
      "_view_count": null,
      "_view_module": "@jupyter-widgets/base",
      "_view_module_version": "1.2.0",
      "_view_name": "StyleView",
      "description_width": ""
     }
    },
    "2f47d9ba3fcf4896b30b6bc95eb6dfd4": {
     "model_module": "@jupyter-widgets/base",
     "model_module_version": "1.2.0",
     "model_name": "LayoutModel",
     "state": {
      "_model_module": "@jupyter-widgets/base",
      "_model_module_version": "1.2.0",
      "_model_name": "LayoutModel",
      "_view_count": null,
      "_view_module": "@jupyter-widgets/base",
      "_view_module_version": "1.2.0",
      "_view_name": "LayoutView",
      "align_content": null,
      "align_items": null,
      "align_self": null,
      "border": null,
      "bottom": null,
      "display": null,
      "flex": null,
      "flex_flow": null,
      "grid_area": null,
      "grid_auto_columns": null,
      "grid_auto_flow": null,
      "grid_auto_rows": null,
      "grid_column": null,
      "grid_gap": null,
      "grid_row": null,
      "grid_template_areas": null,
      "grid_template_columns": null,
      "grid_template_rows": null,
      "height": null,
      "justify_content": null,
      "justify_items": null,
      "left": null,
      "margin": null,
      "max_height": null,
      "max_width": null,
      "min_height": null,
      "min_width": null,
      "object_fit": null,
      "object_position": null,
      "order": null,
      "overflow": null,
      "overflow_x": null,
      "overflow_y": null,
      "padding": null,
      "right": null,
      "top": null,
      "visibility": null,
      "width": null
     }
    },
    "336a065e35d9472f81b2ff41197cdcc6": {
     "model_module": "@jupyter-widgets/controls",
     "model_module_version": "1.5.0",
     "model_name": "HTMLModel",
     "state": {
      "_dom_classes": [],
      "_model_module": "@jupyter-widgets/controls",
      "_model_module_version": "1.5.0",
      "_model_name": "HTMLModel",
      "_view_count": null,
      "_view_module": "@jupyter-widgets/controls",
      "_view_module_version": "1.5.0",
      "_view_name": "HTMLView",
      "description": "",
      "description_tooltip": null,
      "layout": "IPY_MODEL_83427e4299494a3fb77c4558c0554056",
      "placeholder": "​",
      "style": "IPY_MODEL_b2adfe21779e4a81ae7d27ebe73c39cd",
      "value": " 62/62 [00:52&lt;00:00,  1.20it/s]"
     }
    },
    "3d28f357f41a439dbb58e92e56c78312": {
     "model_module": "@jupyter-widgets/base",
     "model_module_version": "1.2.0",
     "model_name": "LayoutModel",
     "state": {
      "_model_module": "@jupyter-widgets/base",
      "_model_module_version": "1.2.0",
      "_model_name": "LayoutModel",
      "_view_count": null,
      "_view_module": "@jupyter-widgets/base",
      "_view_module_version": "1.2.0",
      "_view_name": "LayoutView",
      "align_content": null,
      "align_items": null,
      "align_self": null,
      "border": null,
      "bottom": null,
      "display": null,
      "flex": null,
      "flex_flow": null,
      "grid_area": null,
      "grid_auto_columns": null,
      "grid_auto_flow": null,
      "grid_auto_rows": null,
      "grid_column": null,
      "grid_gap": null,
      "grid_row": null,
      "grid_template_areas": null,
      "grid_template_columns": null,
      "grid_template_rows": null,
      "height": null,
      "justify_content": null,
      "justify_items": null,
      "left": null,
      "margin": null,
      "max_height": null,
      "max_width": null,
      "min_height": null,
      "min_width": null,
      "object_fit": null,
      "object_position": null,
      "order": null,
      "overflow": null,
      "overflow_x": null,
      "overflow_y": null,
      "padding": null,
      "right": null,
      "top": null,
      "visibility": null,
      "width": null
     }
    },
    "3d7aaadfe8a840b89dd04b95115600f3": {
     "model_module": "@jupyter-widgets/base",
     "model_module_version": "1.2.0",
     "model_name": "LayoutModel",
     "state": {
      "_model_module": "@jupyter-widgets/base",
      "_model_module_version": "1.2.0",
      "_model_name": "LayoutModel",
      "_view_count": null,
      "_view_module": "@jupyter-widgets/base",
      "_view_module_version": "1.2.0",
      "_view_name": "LayoutView",
      "align_content": null,
      "align_items": null,
      "align_self": null,
      "border": null,
      "bottom": null,
      "display": null,
      "flex": null,
      "flex_flow": null,
      "grid_area": null,
      "grid_auto_columns": null,
      "grid_auto_flow": null,
      "grid_auto_rows": null,
      "grid_column": null,
      "grid_gap": null,
      "grid_row": null,
      "grid_template_areas": null,
      "grid_template_columns": null,
      "grid_template_rows": null,
      "height": null,
      "justify_content": null,
      "justify_items": null,
      "left": null,
      "margin": null,
      "max_height": null,
      "max_width": null,
      "min_height": null,
      "min_width": null,
      "object_fit": null,
      "object_position": null,
      "order": null,
      "overflow": null,
      "overflow_x": null,
      "overflow_y": null,
      "padding": null,
      "right": null,
      "top": null,
      "visibility": "hidden",
      "width": null
     }
    },
    "47599bd26ea5476b9d10d639294a13ab": {
     "model_module": "@jupyter-widgets/base",
     "model_module_version": "1.2.0",
     "model_name": "LayoutModel",
     "state": {
      "_model_module": "@jupyter-widgets/base",
      "_model_module_version": "1.2.0",
      "_model_name": "LayoutModel",
      "_view_count": null,
      "_view_module": "@jupyter-widgets/base",
      "_view_module_version": "1.2.0",
      "_view_name": "LayoutView",
      "align_content": null,
      "align_items": null,
      "align_self": null,
      "border": null,
      "bottom": null,
      "display": null,
      "flex": null,
      "flex_flow": null,
      "grid_area": null,
      "grid_auto_columns": null,
      "grid_auto_flow": null,
      "grid_auto_rows": null,
      "grid_column": null,
      "grid_gap": null,
      "grid_row": null,
      "grid_template_areas": null,
      "grid_template_columns": null,
      "grid_template_rows": null,
      "height": null,
      "justify_content": null,
      "justify_items": null,
      "left": null,
      "margin": null,
      "max_height": null,
      "max_width": null,
      "min_height": null,
      "min_width": null,
      "object_fit": null,
      "object_position": null,
      "order": null,
      "overflow": null,
      "overflow_x": null,
      "overflow_y": null,
      "padding": null,
      "right": null,
      "top": null,
      "visibility": "hidden",
      "width": null
     }
    },
    "47c31fc365524b10aec2495f2efe6aec": {
     "model_module": "@jupyter-widgets/controls",
     "model_module_version": "1.5.0",
     "model_name": "HBoxModel",
     "state": {
      "_dom_classes": [],
      "_model_module": "@jupyter-widgets/controls",
      "_model_module_version": "1.5.0",
      "_model_name": "HBoxModel",
      "_view_count": null,
      "_view_module": "@jupyter-widgets/controls",
      "_view_module_version": "1.5.0",
      "_view_name": "HBoxView",
      "box_style": "",
      "children": [
       "IPY_MODEL_52545ea9f6104c69822746982d666bea",
       "IPY_MODEL_f33169c3bbb943e8834814dde66ffb06",
       "IPY_MODEL_5ae29cadc6134a8e8f020a63df1981bb"
      ],
      "layout": "IPY_MODEL_47599bd26ea5476b9d10d639294a13ab"
     }
    },
    "4a767a50354841b089bb9f49b5099049": {
     "model_module": "@jupyter-widgets/controls",
     "model_module_version": "1.5.0",
     "model_name": "HTMLModel",
     "state": {
      "_dom_classes": [],
      "_model_module": "@jupyter-widgets/controls",
      "_model_module_version": "1.5.0",
      "_model_name": "HTMLModel",
      "_view_count": null,
      "_view_module": "@jupyter-widgets/controls",
      "_view_module_version": "1.5.0",
      "_view_name": "HTMLView",
      "description": "",
      "description_tooltip": null,
      "layout": "IPY_MODEL_2f47d9ba3fcf4896b30b6bc95eb6dfd4",
      "placeholder": "​",
      "style": "IPY_MODEL_a96b617ca34641e8800f77cdc8362b7b",
      "value": "100%"
     }
    },
    "4adb72a2013d422aa5f2c37b6754b5a5": {
     "model_module": "@jupyter-widgets/controls",
     "model_module_version": "1.5.0",
     "model_name": "HTMLModel",
     "state": {
      "_dom_classes": [],
      "_model_module": "@jupyter-widgets/controls",
      "_model_module_version": "1.5.0",
      "_model_name": "HTMLModel",
      "_view_count": null,
      "_view_module": "@jupyter-widgets/controls",
      "_view_module_version": "1.5.0",
      "_view_name": "HTMLView",
      "description": "",
      "description_tooltip": null,
      "layout": "IPY_MODEL_d432d1f0afca443187e25ee67b151268",
      "placeholder": "​",
      "style": "IPY_MODEL_fe9935841bd14e4f8f9fe97c0aded680",
      "value": "100%"
     }
    },
    "4e88cc0265194b0a85b52874f4677f4b": {
     "model_module": "@jupyter-widgets/controls",
     "model_module_version": "1.5.0",
     "model_name": "ProgressStyleModel",
     "state": {
      "_model_module": "@jupyter-widgets/controls",
      "_model_module_version": "1.5.0",
      "_model_name": "ProgressStyleModel",
      "_view_count": null,
      "_view_module": "@jupyter-widgets/base",
      "_view_module_version": "1.2.0",
      "_view_name": "StyleView",
      "bar_color": null,
      "description_width": ""
     }
    },
    "518ffcae3653475a893ab3199d3ea028": {
     "model_module": "@jupyter-widgets/controls",
     "model_module_version": "1.5.0",
     "model_name": "DescriptionStyleModel",
     "state": {
      "_model_module": "@jupyter-widgets/controls",
      "_model_module_version": "1.5.0",
      "_model_name": "DescriptionStyleModel",
      "_view_count": null,
      "_view_module": "@jupyter-widgets/base",
      "_view_module_version": "1.2.0",
      "_view_name": "StyleView",
      "description_width": ""
     }
    },
    "52545ea9f6104c69822746982d666bea": {
     "model_module": "@jupyter-widgets/controls",
     "model_module_version": "1.5.0",
     "model_name": "HTMLModel",
     "state": {
      "_dom_classes": [],
      "_model_module": "@jupyter-widgets/controls",
      "_model_module_version": "1.5.0",
      "_model_name": "HTMLModel",
      "_view_count": null,
      "_view_module": "@jupyter-widgets/controls",
      "_view_module_version": "1.5.0",
      "_view_name": "HTMLView",
      "description": "",
      "description_tooltip": null,
      "layout": "IPY_MODEL_9ad49ca6aa0d4992a033dd5ef478ac7c",
      "placeholder": "​",
      "style": "IPY_MODEL_e17066cbe7094c25aacc4104bd7aa2a2",
      "value": "100%"
     }
    },
    "592d235c3bd542209fbcdc5c522a64a0": {
     "model_module": "@jupyter-widgets/controls",
     "model_module_version": "1.5.0",
     "model_name": "FloatProgressModel",
     "state": {
      "_dom_classes": [],
      "_model_module": "@jupyter-widgets/controls",
      "_model_module_version": "1.5.0",
      "_model_name": "FloatProgressModel",
      "_view_count": null,
      "_view_module": "@jupyter-widgets/controls",
      "_view_module_version": "1.5.0",
      "_view_name": "ProgressView",
      "bar_style": "",
      "description": "",
      "description_tooltip": null,
      "layout": "IPY_MODEL_b1a7e7cf1bee4d49b45c4ee2b48865a7",
      "max": 5,
      "min": 0,
      "orientation": "horizontal",
      "style": "IPY_MODEL_4e88cc0265194b0a85b52874f4677f4b",
      "value": 5
     }
    },
    "5ae29cadc6134a8e8f020a63df1981bb": {
     "model_module": "@jupyter-widgets/controls",
     "model_module_version": "1.5.0",
     "model_name": "HTMLModel",
     "state": {
      "_dom_classes": [],
      "_model_module": "@jupyter-widgets/controls",
      "_model_module_version": "1.5.0",
      "_model_name": "HTMLModel",
      "_view_count": null,
      "_view_module": "@jupyter-widgets/controls",
      "_view_module_version": "1.5.0",
      "_view_name": "HTMLView",
      "description": "",
      "description_tooltip": null,
      "layout": "IPY_MODEL_8712142753b64a0098bd340959b8a83c",
      "placeholder": "​",
      "style": "IPY_MODEL_d414c181d06e42f09afe8f59e1cf4abd",
      "value": " 62/62 [00:52&lt;00:00,  1.18it/s]"
     }
    },
    "5b5003d471364d1aa7934152b7ec90a3": {
     "model_module": "@jupyter-widgets/controls",
     "model_module_version": "1.5.0",
     "model_name": "ProgressStyleModel",
     "state": {
      "_model_module": "@jupyter-widgets/controls",
      "_model_module_version": "1.5.0",
      "_model_name": "ProgressStyleModel",
      "_view_count": null,
      "_view_module": "@jupyter-widgets/base",
      "_view_module_version": "1.2.0",
      "_view_name": "StyleView",
      "bar_color": null,
      "description_width": ""
     }
    },
    "5cd2a030fef44390a07be79c788937f1": {
     "model_module": "@jupyter-widgets/controls",
     "model_module_version": "1.5.0",
     "model_name": "FloatProgressModel",
     "state": {
      "_dom_classes": [],
      "_model_module": "@jupyter-widgets/controls",
      "_model_module_version": "1.5.0",
      "_model_name": "FloatProgressModel",
      "_view_count": null,
      "_view_module": "@jupyter-widgets/controls",
      "_view_module_version": "1.5.0",
      "_view_name": "ProgressView",
      "bar_style": "",
      "description": "",
      "description_tooltip": null,
      "layout": "IPY_MODEL_bf14e297c5624d83ab9ca5bf6bddaa88",
      "max": 62,
      "min": 0,
      "orientation": "horizontal",
      "style": "IPY_MODEL_5da970d5fb7340209561312b439390b0",
      "value": 62
     }
    },
    "5da970d5fb7340209561312b439390b0": {
     "model_module": "@jupyter-widgets/controls",
     "model_module_version": "1.5.0",
     "model_name": "ProgressStyleModel",
     "state": {
      "_model_module": "@jupyter-widgets/controls",
      "_model_module_version": "1.5.0",
      "_model_name": "ProgressStyleModel",
      "_view_count": null,
      "_view_module": "@jupyter-widgets/base",
      "_view_module_version": "1.2.0",
      "_view_name": "StyleView",
      "bar_color": null,
      "description_width": ""
     }
    },
    "5df65a91d0f845bebba224c577354625": {
     "model_module": "@jupyter-widgets/base",
     "model_module_version": "1.2.0",
     "model_name": "LayoutModel",
     "state": {
      "_model_module": "@jupyter-widgets/base",
      "_model_module_version": "1.2.0",
      "_model_name": "LayoutModel",
      "_view_count": null,
      "_view_module": "@jupyter-widgets/base",
      "_view_module_version": "1.2.0",
      "_view_name": "LayoutView",
      "align_content": null,
      "align_items": null,
      "align_self": null,
      "border": null,
      "bottom": null,
      "display": null,
      "flex": null,
      "flex_flow": null,
      "grid_area": null,
      "grid_auto_columns": null,
      "grid_auto_flow": null,
      "grid_auto_rows": null,
      "grid_column": null,
      "grid_gap": null,
      "grid_row": null,
      "grid_template_areas": null,
      "grid_template_columns": null,
      "grid_template_rows": null,
      "height": null,
      "justify_content": null,
      "justify_items": null,
      "left": null,
      "margin": null,
      "max_height": null,
      "max_width": null,
      "min_height": null,
      "min_width": null,
      "object_fit": null,
      "object_position": null,
      "order": null,
      "overflow": null,
      "overflow_x": null,
      "overflow_y": null,
      "padding": null,
      "right": null,
      "top": null,
      "visibility": null,
      "width": null
     }
    },
    "624fdc1817a444d6b4c86f94d48cb5fb": {
     "model_module": "@jupyter-widgets/base",
     "model_module_version": "1.2.0",
     "model_name": "LayoutModel",
     "state": {
      "_model_module": "@jupyter-widgets/base",
      "_model_module_version": "1.2.0",
      "_model_name": "LayoutModel",
      "_view_count": null,
      "_view_module": "@jupyter-widgets/base",
      "_view_module_version": "1.2.0",
      "_view_name": "LayoutView",
      "align_content": null,
      "align_items": null,
      "align_self": null,
      "border": null,
      "bottom": null,
      "display": null,
      "flex": null,
      "flex_flow": null,
      "grid_area": null,
      "grid_auto_columns": null,
      "grid_auto_flow": null,
      "grid_auto_rows": null,
      "grid_column": null,
      "grid_gap": null,
      "grid_row": null,
      "grid_template_areas": null,
      "grid_template_columns": null,
      "grid_template_rows": null,
      "height": null,
      "justify_content": null,
      "justify_items": null,
      "left": null,
      "margin": null,
      "max_height": null,
      "max_width": null,
      "min_height": null,
      "min_width": null,
      "object_fit": null,
      "object_position": null,
      "order": null,
      "overflow": null,
      "overflow_x": null,
      "overflow_y": null,
      "padding": null,
      "right": null,
      "top": null,
      "visibility": null,
      "width": null
     }
    },
    "6aa1c7c971d74033a436d8ce690477f7": {
     "model_module": "@jupyter-widgets/controls",
     "model_module_version": "1.5.0",
     "model_name": "HBoxModel",
     "state": {
      "_dom_classes": [],
      "_model_module": "@jupyter-widgets/controls",
      "_model_module_version": "1.5.0",
      "_model_name": "HBoxModel",
      "_view_count": null,
      "_view_module": "@jupyter-widgets/controls",
      "_view_module_version": "1.5.0",
      "_view_name": "HBoxView",
      "box_style": "",
      "children": [
       "IPY_MODEL_4adb72a2013d422aa5f2c37b6754b5a5",
       "IPY_MODEL_e25f58b676844963bdcfbfa2c40cff99",
       "IPY_MODEL_336a065e35d9472f81b2ff41197cdcc6"
      ],
      "layout": "IPY_MODEL_f923db702c324a41880445f6c4f9d251"
     }
    },
    "6e385c78414e4c289030683c412e947b": {
     "model_module": "@jupyter-widgets/controls",
     "model_module_version": "1.5.0",
     "model_name": "DescriptionStyleModel",
     "state": {
      "_model_module": "@jupyter-widgets/controls",
      "_model_module_version": "1.5.0",
      "_model_name": "DescriptionStyleModel",
      "_view_count": null,
      "_view_module": "@jupyter-widgets/base",
      "_view_module_version": "1.2.0",
      "_view_name": "StyleView",
      "description_width": ""
     }
    },
    "744b1c06997945e8a4a3b64ec67d6ac5": {
     "model_module": "@jupyter-widgets/controls",
     "model_module_version": "1.5.0",
     "model_name": "FloatProgressModel",
     "state": {
      "_dom_classes": [],
      "_model_module": "@jupyter-widgets/controls",
      "_model_module_version": "1.5.0",
      "_model_name": "FloatProgressModel",
      "_view_count": null,
      "_view_module": "@jupyter-widgets/controls",
      "_view_module_version": "1.5.0",
      "_view_name": "ProgressView",
      "bar_style": "",
      "description": "",
      "description_tooltip": null,
      "layout": "IPY_MODEL_19f1e849e2e14773aacd7d08cef10bcb",
      "max": 63,
      "min": 0,
      "orientation": "horizontal",
      "style": "IPY_MODEL_1fb35f9948ea4c3984dfe3ea7f35397a",
      "value": 63
     }
    },
    "74f67d3fe4cb4867869b3d397daf0915": {
     "model_module": "@jupyter-widgets/base",
     "model_module_version": "1.2.0",
     "model_name": "LayoutModel",
     "state": {
      "_model_module": "@jupyter-widgets/base",
      "_model_module_version": "1.2.0",
      "_model_name": "LayoutModel",
      "_view_count": null,
      "_view_module": "@jupyter-widgets/base",
      "_view_module_version": "1.2.0",
      "_view_name": "LayoutView",
      "align_content": null,
      "align_items": null,
      "align_self": null,
      "border": null,
      "bottom": null,
      "display": null,
      "flex": null,
      "flex_flow": null,
      "grid_area": null,
      "grid_auto_columns": null,
      "grid_auto_flow": null,
      "grid_auto_rows": null,
      "grid_column": null,
      "grid_gap": null,
      "grid_row": null,
      "grid_template_areas": null,
      "grid_template_columns": null,
      "grid_template_rows": null,
      "height": null,
      "justify_content": null,
      "justify_items": null,
      "left": null,
      "margin": null,
      "max_height": null,
      "max_width": null,
      "min_height": null,
      "min_width": null,
      "object_fit": null,
      "object_position": null,
      "order": null,
      "overflow": null,
      "overflow_x": null,
      "overflow_y": null,
      "padding": null,
      "right": null,
      "top": null,
      "visibility": null,
      "width": null
     }
    },
    "78bdbb2cd9d2408c952e774129879a6c": {
     "model_module": "@jupyter-widgets/controls",
     "model_module_version": "1.5.0",
     "model_name": "FloatProgressModel",
     "state": {
      "_dom_classes": [],
      "_model_module": "@jupyter-widgets/controls",
      "_model_module_version": "1.5.0",
      "_model_name": "FloatProgressModel",
      "_view_count": null,
      "_view_module": "@jupyter-widgets/controls",
      "_view_module_version": "1.5.0",
      "_view_name": "ProgressView",
      "bar_style": "",
      "description": "",
      "description_tooltip": null,
      "layout": "IPY_MODEL_7b66e37fd6c7433dbe43b6fe059f034f",
      "max": 62,
      "min": 0,
      "orientation": "horizontal",
      "style": "IPY_MODEL_5b5003d471364d1aa7934152b7ec90a3",
      "value": 62
     }
    },
    "7b66e37fd6c7433dbe43b6fe059f034f": {
     "model_module": "@jupyter-widgets/base",
     "model_module_version": "1.2.0",
     "model_name": "LayoutModel",
     "state": {
      "_model_module": "@jupyter-widgets/base",
      "_model_module_version": "1.2.0",
      "_model_name": "LayoutModel",
      "_view_count": null,
      "_view_module": "@jupyter-widgets/base",
      "_view_module_version": "1.2.0",
      "_view_name": "LayoutView",
      "align_content": null,
      "align_items": null,
      "align_self": null,
      "border": null,
      "bottom": null,
      "display": null,
      "flex": null,
      "flex_flow": null,
      "grid_area": null,
      "grid_auto_columns": null,
      "grid_auto_flow": null,
      "grid_auto_rows": null,
      "grid_column": null,
      "grid_gap": null,
      "grid_row": null,
      "grid_template_areas": null,
      "grid_template_columns": null,
      "grid_template_rows": null,
      "height": null,
      "justify_content": null,
      "justify_items": null,
      "left": null,
      "margin": null,
      "max_height": null,
      "max_width": null,
      "min_height": null,
      "min_width": null,
      "object_fit": null,
      "object_position": null,
      "order": null,
      "overflow": null,
      "overflow_x": null,
      "overflow_y": null,
      "padding": null,
      "right": null,
      "top": null,
      "visibility": null,
      "width": null
     }
    },
    "7cff7e6132da4bbf9547c947e398b9f1": {
     "model_module": "@jupyter-widgets/controls",
     "model_module_version": "1.5.0",
     "model_name": "DescriptionStyleModel",
     "state": {
      "_model_module": "@jupyter-widgets/controls",
      "_model_module_version": "1.5.0",
      "_model_name": "DescriptionStyleModel",
      "_view_count": null,
      "_view_module": "@jupyter-widgets/base",
      "_view_module_version": "1.2.0",
      "_view_name": "StyleView",
      "description_width": ""
     }
    },
    "7d33231b32d24ddc979415e79dc8c059": {
     "model_module": "@jupyter-widgets/controls",
     "model_module_version": "1.5.0",
     "model_name": "ProgressStyleModel",
     "state": {
      "_model_module": "@jupyter-widgets/controls",
      "_model_module_version": "1.5.0",
      "_model_name": "ProgressStyleModel",
      "_view_count": null,
      "_view_module": "@jupyter-widgets/base",
      "_view_module_version": "1.2.0",
      "_view_name": "StyleView",
      "bar_color": null,
      "description_width": ""
     }
    },
    "7e1f3e7439504f738680c5c8d3afefaf": {
     "model_module": "@jupyter-widgets/base",
     "model_module_version": "1.2.0",
     "model_name": "LayoutModel",
     "state": {
      "_model_module": "@jupyter-widgets/base",
      "_model_module_version": "1.2.0",
      "_model_name": "LayoutModel",
      "_view_count": null,
      "_view_module": "@jupyter-widgets/base",
      "_view_module_version": "1.2.0",
      "_view_name": "LayoutView",
      "align_content": null,
      "align_items": null,
      "align_self": null,
      "border": null,
      "bottom": null,
      "display": null,
      "flex": null,
      "flex_flow": null,
      "grid_area": null,
      "grid_auto_columns": null,
      "grid_auto_flow": null,
      "grid_auto_rows": null,
      "grid_column": null,
      "grid_gap": null,
      "grid_row": null,
      "grid_template_areas": null,
      "grid_template_columns": null,
      "grid_template_rows": null,
      "height": null,
      "justify_content": null,
      "justify_items": null,
      "left": null,
      "margin": null,
      "max_height": null,
      "max_width": null,
      "min_height": null,
      "min_width": null,
      "object_fit": null,
      "object_position": null,
      "order": null,
      "overflow": null,
      "overflow_x": null,
      "overflow_y": null,
      "padding": null,
      "right": null,
      "top": null,
      "visibility": "hidden",
      "width": null
     }
    },
    "83427e4299494a3fb77c4558c0554056": {
     "model_module": "@jupyter-widgets/base",
     "model_module_version": "1.2.0",
     "model_name": "LayoutModel",
     "state": {
      "_model_module": "@jupyter-widgets/base",
      "_model_module_version": "1.2.0",
      "_model_name": "LayoutModel",
      "_view_count": null,
      "_view_module": "@jupyter-widgets/base",
      "_view_module_version": "1.2.0",
      "_view_name": "LayoutView",
      "align_content": null,
      "align_items": null,
      "align_self": null,
      "border": null,
      "bottom": null,
      "display": null,
      "flex": null,
      "flex_flow": null,
      "grid_area": null,
      "grid_auto_columns": null,
      "grid_auto_flow": null,
      "grid_auto_rows": null,
      "grid_column": null,
      "grid_gap": null,
      "grid_row": null,
      "grid_template_areas": null,
      "grid_template_columns": null,
      "grid_template_rows": null,
      "height": null,
      "justify_content": null,
      "justify_items": null,
      "left": null,
      "margin": null,
      "max_height": null,
      "max_width": null,
      "min_height": null,
      "min_width": null,
      "object_fit": null,
      "object_position": null,
      "order": null,
      "overflow": null,
      "overflow_x": null,
      "overflow_y": null,
      "padding": null,
      "right": null,
      "top": null,
      "visibility": null,
      "width": null
     }
    },
    "84b68ac3c03e4b2c9637c8cba16fcbe9": {
     "model_module": "@jupyter-widgets/base",
     "model_module_version": "1.2.0",
     "model_name": "LayoutModel",
     "state": {
      "_model_module": "@jupyter-widgets/base",
      "_model_module_version": "1.2.0",
      "_model_name": "LayoutModel",
      "_view_count": null,
      "_view_module": "@jupyter-widgets/base",
      "_view_module_version": "1.2.0",
      "_view_name": "LayoutView",
      "align_content": null,
      "align_items": null,
      "align_self": null,
      "border": null,
      "bottom": null,
      "display": null,
      "flex": null,
      "flex_flow": null,
      "grid_area": null,
      "grid_auto_columns": null,
      "grid_auto_flow": null,
      "grid_auto_rows": null,
      "grid_column": null,
      "grid_gap": null,
      "grid_row": null,
      "grid_template_areas": null,
      "grid_template_columns": null,
      "grid_template_rows": null,
      "height": null,
      "justify_content": null,
      "justify_items": null,
      "left": null,
      "margin": null,
      "max_height": null,
      "max_width": null,
      "min_height": null,
      "min_width": null,
      "object_fit": null,
      "object_position": null,
      "order": null,
      "overflow": null,
      "overflow_x": null,
      "overflow_y": null,
      "padding": null,
      "right": null,
      "top": null,
      "visibility": null,
      "width": null
     }
    },
    "8712142753b64a0098bd340959b8a83c": {
     "model_module": "@jupyter-widgets/base",
     "model_module_version": "1.2.0",
     "model_name": "LayoutModel",
     "state": {
      "_model_module": "@jupyter-widgets/base",
      "_model_module_version": "1.2.0",
      "_model_name": "LayoutModel",
      "_view_count": null,
      "_view_module": "@jupyter-widgets/base",
      "_view_module_version": "1.2.0",
      "_view_name": "LayoutView",
      "align_content": null,
      "align_items": null,
      "align_self": null,
      "border": null,
      "bottom": null,
      "display": null,
      "flex": null,
      "flex_flow": null,
      "grid_area": null,
      "grid_auto_columns": null,
      "grid_auto_flow": null,
      "grid_auto_rows": null,
      "grid_column": null,
      "grid_gap": null,
      "grid_row": null,
      "grid_template_areas": null,
      "grid_template_columns": null,
      "grid_template_rows": null,
      "height": null,
      "justify_content": null,
      "justify_items": null,
      "left": null,
      "margin": null,
      "max_height": null,
      "max_width": null,
      "min_height": null,
      "min_width": null,
      "object_fit": null,
      "object_position": null,
      "order": null,
      "overflow": null,
      "overflow_x": null,
      "overflow_y": null,
      "padding": null,
      "right": null,
      "top": null,
      "visibility": null,
      "width": null
     }
    },
    "8775b50c3ad5463d999e2033ee3c0b70": {
     "model_module": "@jupyter-widgets/base",
     "model_module_version": "1.2.0",
     "model_name": "LayoutModel",
     "state": {
      "_model_module": "@jupyter-widgets/base",
      "_model_module_version": "1.2.0",
      "_model_name": "LayoutModel",
      "_view_count": null,
      "_view_module": "@jupyter-widgets/base",
      "_view_module_version": "1.2.0",
      "_view_name": "LayoutView",
      "align_content": null,
      "align_items": null,
      "align_self": null,
      "border": null,
      "bottom": null,
      "display": null,
      "flex": null,
      "flex_flow": null,
      "grid_area": null,
      "grid_auto_columns": null,
      "grid_auto_flow": null,
      "grid_auto_rows": null,
      "grid_column": null,
      "grid_gap": null,
      "grid_row": null,
      "grid_template_areas": null,
      "grid_template_columns": null,
      "grid_template_rows": null,
      "height": null,
      "justify_content": null,
      "justify_items": null,
      "left": null,
      "margin": null,
      "max_height": null,
      "max_width": null,
      "min_height": null,
      "min_width": null,
      "object_fit": null,
      "object_position": null,
      "order": null,
      "overflow": null,
      "overflow_x": null,
      "overflow_y": null,
      "padding": null,
      "right": null,
      "top": null,
      "visibility": null,
      "width": null
     }
    },
    "8c6d87965fc948d39e12bfc0f430406e": {
     "model_module": "@jupyter-widgets/base",
     "model_module_version": "1.2.0",
     "model_name": "LayoutModel",
     "state": {
      "_model_module": "@jupyter-widgets/base",
      "_model_module_version": "1.2.0",
      "_model_name": "LayoutModel",
      "_view_count": null,
      "_view_module": "@jupyter-widgets/base",
      "_view_module_version": "1.2.0",
      "_view_name": "LayoutView",
      "align_content": null,
      "align_items": null,
      "align_self": null,
      "border": null,
      "bottom": null,
      "display": null,
      "flex": null,
      "flex_flow": null,
      "grid_area": null,
      "grid_auto_columns": null,
      "grid_auto_flow": null,
      "grid_auto_rows": null,
      "grid_column": null,
      "grid_gap": null,
      "grid_row": null,
      "grid_template_areas": null,
      "grid_template_columns": null,
      "grid_template_rows": null,
      "height": null,
      "justify_content": null,
      "justify_items": null,
      "left": null,
      "margin": null,
      "max_height": null,
      "max_width": null,
      "min_height": null,
      "min_width": null,
      "object_fit": null,
      "object_position": null,
      "order": null,
      "overflow": null,
      "overflow_x": null,
      "overflow_y": null,
      "padding": null,
      "right": null,
      "top": null,
      "visibility": null,
      "width": null
     }
    },
    "92a409afe2ef4f7c9852933b963d07f3": {
     "model_module": "@jupyter-widgets/base",
     "model_module_version": "1.2.0",
     "model_name": "LayoutModel",
     "state": {
      "_model_module": "@jupyter-widgets/base",
      "_model_module_version": "1.2.0",
      "_model_name": "LayoutModel",
      "_view_count": null,
      "_view_module": "@jupyter-widgets/base",
      "_view_module_version": "1.2.0",
      "_view_name": "LayoutView",
      "align_content": null,
      "align_items": null,
      "align_self": null,
      "border": null,
      "bottom": null,
      "display": null,
      "flex": null,
      "flex_flow": null,
      "grid_area": null,
      "grid_auto_columns": null,
      "grid_auto_flow": null,
      "grid_auto_rows": null,
      "grid_column": null,
      "grid_gap": null,
      "grid_row": null,
      "grid_template_areas": null,
      "grid_template_columns": null,
      "grid_template_rows": null,
      "height": null,
      "justify_content": null,
      "justify_items": null,
      "left": null,
      "margin": null,
      "max_height": null,
      "max_width": null,
      "min_height": null,
      "min_width": null,
      "object_fit": null,
      "object_position": null,
      "order": null,
      "overflow": null,
      "overflow_x": null,
      "overflow_y": null,
      "padding": null,
      "right": null,
      "top": null,
      "visibility": "hidden",
      "width": null
     }
    },
    "939b275009c6431ba815e10c5b8a31ab": {
     "model_module": "@jupyter-widgets/base",
     "model_module_version": "1.2.0",
     "model_name": "LayoutModel",
     "state": {
      "_model_module": "@jupyter-widgets/base",
      "_model_module_version": "1.2.0",
      "_model_name": "LayoutModel",
      "_view_count": null,
      "_view_module": "@jupyter-widgets/base",
      "_view_module_version": "1.2.0",
      "_view_name": "LayoutView",
      "align_content": null,
      "align_items": null,
      "align_self": null,
      "border": null,
      "bottom": null,
      "display": null,
      "flex": null,
      "flex_flow": null,
      "grid_area": null,
      "grid_auto_columns": null,
      "grid_auto_flow": null,
      "grid_auto_rows": null,
      "grid_column": null,
      "grid_gap": null,
      "grid_row": null,
      "grid_template_areas": null,
      "grid_template_columns": null,
      "grid_template_rows": null,
      "height": null,
      "justify_content": null,
      "justify_items": null,
      "left": null,
      "margin": null,
      "max_height": null,
      "max_width": null,
      "min_height": null,
      "min_width": null,
      "object_fit": null,
      "object_position": null,
      "order": null,
      "overflow": null,
      "overflow_x": null,
      "overflow_y": null,
      "padding": null,
      "right": null,
      "top": null,
      "visibility": null,
      "width": null
     }
    },
    "982fc7a605c24e8ba0078de70cc51d66": {
     "model_module": "@jupyter-widgets/base",
     "model_module_version": "1.2.0",
     "model_name": "LayoutModel",
     "state": {
      "_model_module": "@jupyter-widgets/base",
      "_model_module_version": "1.2.0",
      "_model_name": "LayoutModel",
      "_view_count": null,
      "_view_module": "@jupyter-widgets/base",
      "_view_module_version": "1.2.0",
      "_view_name": "LayoutView",
      "align_content": null,
      "align_items": null,
      "align_self": null,
      "border": null,
      "bottom": null,
      "display": null,
      "flex": null,
      "flex_flow": null,
      "grid_area": null,
      "grid_auto_columns": null,
      "grid_auto_flow": null,
      "grid_auto_rows": null,
      "grid_column": null,
      "grid_gap": null,
      "grid_row": null,
      "grid_template_areas": null,
      "grid_template_columns": null,
      "grid_template_rows": null,
      "height": null,
      "justify_content": null,
      "justify_items": null,
      "left": null,
      "margin": null,
      "max_height": null,
      "max_width": null,
      "min_height": null,
      "min_width": null,
      "object_fit": null,
      "object_position": null,
      "order": null,
      "overflow": null,
      "overflow_x": null,
      "overflow_y": null,
      "padding": null,
      "right": null,
      "top": null,
      "visibility": null,
      "width": null
     }
    },
    "9ad49ca6aa0d4992a033dd5ef478ac7c": {
     "model_module": "@jupyter-widgets/base",
     "model_module_version": "1.2.0",
     "model_name": "LayoutModel",
     "state": {
      "_model_module": "@jupyter-widgets/base",
      "_model_module_version": "1.2.0",
      "_model_name": "LayoutModel",
      "_view_count": null,
      "_view_module": "@jupyter-widgets/base",
      "_view_module_version": "1.2.0",
      "_view_name": "LayoutView",
      "align_content": null,
      "align_items": null,
      "align_self": null,
      "border": null,
      "bottom": null,
      "display": null,
      "flex": null,
      "flex_flow": null,
      "grid_area": null,
      "grid_auto_columns": null,
      "grid_auto_flow": null,
      "grid_auto_rows": null,
      "grid_column": null,
      "grid_gap": null,
      "grid_row": null,
      "grid_template_areas": null,
      "grid_template_columns": null,
      "grid_template_rows": null,
      "height": null,
      "justify_content": null,
      "justify_items": null,
      "left": null,
      "margin": null,
      "max_height": null,
      "max_width": null,
      "min_height": null,
      "min_width": null,
      "object_fit": null,
      "object_position": null,
      "order": null,
      "overflow": null,
      "overflow_x": null,
      "overflow_y": null,
      "padding": null,
      "right": null,
      "top": null,
      "visibility": null,
      "width": null
     }
    },
    "9fd735fbb47a4242bae5ae856a0ca642": {
     "model_module": "@jupyter-widgets/controls",
     "model_module_version": "1.5.0",
     "model_name": "DescriptionStyleModel",
     "state": {
      "_model_module": "@jupyter-widgets/controls",
      "_model_module_version": "1.5.0",
      "_model_name": "DescriptionStyleModel",
      "_view_count": null,
      "_view_module": "@jupyter-widgets/base",
      "_view_module_version": "1.2.0",
      "_view_name": "StyleView",
      "description_width": ""
     }
    },
    "a240a33bed814c538f38526304a63e9e": {
     "model_module": "@jupyter-widgets/controls",
     "model_module_version": "1.5.0",
     "model_name": "HTMLModel",
     "state": {
      "_dom_classes": [],
      "_model_module": "@jupyter-widgets/controls",
      "_model_module_version": "1.5.0",
      "_model_name": "HTMLModel",
      "_view_count": null,
      "_view_module": "@jupyter-widgets/controls",
      "_view_module_version": "1.5.0",
      "_view_name": "HTMLView",
      "description": "",
      "description_tooltip": null,
      "layout": "IPY_MODEL_a5e315ea2587405e9f201e3863a29b8b",
      "placeholder": "​",
      "style": "IPY_MODEL_518ffcae3653475a893ab3199d3ea028",
      "value": " 62/62 [00:52&lt;00:00,  1.18it/s]"
     }
    },
    "a5e315ea2587405e9f201e3863a29b8b": {
     "model_module": "@jupyter-widgets/base",
     "model_module_version": "1.2.0",
     "model_name": "LayoutModel",
     "state": {
      "_model_module": "@jupyter-widgets/base",
      "_model_module_version": "1.2.0",
      "_model_name": "LayoutModel",
      "_view_count": null,
      "_view_module": "@jupyter-widgets/base",
      "_view_module_version": "1.2.0",
      "_view_name": "LayoutView",
      "align_content": null,
      "align_items": null,
      "align_self": null,
      "border": null,
      "bottom": null,
      "display": null,
      "flex": null,
      "flex_flow": null,
      "grid_area": null,
      "grid_auto_columns": null,
      "grid_auto_flow": null,
      "grid_auto_rows": null,
      "grid_column": null,
      "grid_gap": null,
      "grid_row": null,
      "grid_template_areas": null,
      "grid_template_columns": null,
      "grid_template_rows": null,
      "height": null,
      "justify_content": null,
      "justify_items": null,
      "left": null,
      "margin": null,
      "max_height": null,
      "max_width": null,
      "min_height": null,
      "min_width": null,
      "object_fit": null,
      "object_position": null,
      "order": null,
      "overflow": null,
      "overflow_x": null,
      "overflow_y": null,
      "padding": null,
      "right": null,
      "top": null,
      "visibility": null,
      "width": null
     }
    },
    "a96b617ca34641e8800f77cdc8362b7b": {
     "model_module": "@jupyter-widgets/controls",
     "model_module_version": "1.5.0",
     "model_name": "DescriptionStyleModel",
     "state": {
      "_model_module": "@jupyter-widgets/controls",
      "_model_module_version": "1.5.0",
      "_model_name": "DescriptionStyleModel",
      "_view_count": null,
      "_view_module": "@jupyter-widgets/base",
      "_view_module_version": "1.2.0",
      "_view_name": "StyleView",
      "description_width": ""
     }
    },
    "ade3994f032348f496aa854471fa456b": {
     "model_module": "@jupyter-widgets/controls",
     "model_module_version": "1.5.0",
     "model_name": "HBoxModel",
     "state": {
      "_dom_classes": [],
      "_model_module": "@jupyter-widgets/controls",
      "_model_module_version": "1.5.0",
      "_model_name": "HBoxModel",
      "_view_count": null,
      "_view_module": "@jupyter-widgets/controls",
      "_view_module_version": "1.5.0",
      "_view_name": "HBoxView",
      "box_style": "",
      "children": [
       "IPY_MODEL_b9cb16031031497093fc05b58866de38",
       "IPY_MODEL_d4a18b607e914014a5fff986d335b135",
       "IPY_MODEL_14bacf89deae48da93247926d189c3ad"
      ],
      "layout": "IPY_MODEL_ea473a31e06a4d69aaffa71e26729cdf"
     }
    },
    "aedcccaa4f09452a8adf78260bb1e2da": {
     "model_module": "@jupyter-widgets/controls",
     "model_module_version": "1.5.0",
     "model_name": "HTMLModel",
     "state": {
      "_dom_classes": [],
      "_model_module": "@jupyter-widgets/controls",
      "_model_module_version": "1.5.0",
      "_model_name": "HTMLModel",
      "_view_count": null,
      "_view_module": "@jupyter-widgets/controls",
      "_view_module_version": "1.5.0",
      "_view_name": "HTMLView",
      "description": "",
      "description_tooltip": null,
      "layout": "IPY_MODEL_5df65a91d0f845bebba224c577354625",
      "placeholder": "​",
      "style": "IPY_MODEL_27e8aaaf69964f2eb862dc3afe8b355e",
      "value": "100%"
     }
    },
    "af9181afa9f149d9964d41577a5b6c72": {
     "model_module": "@jupyter-widgets/controls",
     "model_module_version": "1.5.0",
     "model_name": "HTMLModel",
     "state": {
      "_dom_classes": [],
      "_model_module": "@jupyter-widgets/controls",
      "_model_module_version": "1.5.0",
      "_model_name": "HTMLModel",
      "_view_count": null,
      "_view_module": "@jupyter-widgets/controls",
      "_view_module_version": "1.5.0",
      "_view_name": "HTMLView",
      "description": "",
      "description_tooltip": null,
      "layout": "IPY_MODEL_74f67d3fe4cb4867869b3d397daf0915",
      "placeholder": "​",
      "style": "IPY_MODEL_11e88a2528f04fc8a4c55c8dc21ecd6a",
      "value": "100%"
     }
    },
    "b1a7e7cf1bee4d49b45c4ee2b48865a7": {
     "model_module": "@jupyter-widgets/base",
     "model_module_version": "1.2.0",
     "model_name": "LayoutModel",
     "state": {
      "_model_module": "@jupyter-widgets/base",
      "_model_module_version": "1.2.0",
      "_model_name": "LayoutModel",
      "_view_count": null,
      "_view_module": "@jupyter-widgets/base",
      "_view_module_version": "1.2.0",
      "_view_name": "LayoutView",
      "align_content": null,
      "align_items": null,
      "align_self": null,
      "border": null,
      "bottom": null,
      "display": null,
      "flex": null,
      "flex_flow": null,
      "grid_area": null,
      "grid_auto_columns": null,
      "grid_auto_flow": null,
      "grid_auto_rows": null,
      "grid_column": null,
      "grid_gap": null,
      "grid_row": null,
      "grid_template_areas": null,
      "grid_template_columns": null,
      "grid_template_rows": null,
      "height": null,
      "justify_content": null,
      "justify_items": null,
      "left": null,
      "margin": null,
      "max_height": null,
      "max_width": null,
      "min_height": null,
      "min_width": null,
      "object_fit": null,
      "object_position": null,
      "order": null,
      "overflow": null,
      "overflow_x": null,
      "overflow_y": null,
      "padding": null,
      "right": null,
      "top": null,
      "visibility": null,
      "width": null
     }
    },
    "b2adfe21779e4a81ae7d27ebe73c39cd": {
     "model_module": "@jupyter-widgets/controls",
     "model_module_version": "1.5.0",
     "model_name": "DescriptionStyleModel",
     "state": {
      "_model_module": "@jupyter-widgets/controls",
      "_model_module_version": "1.5.0",
      "_model_name": "DescriptionStyleModel",
      "_view_count": null,
      "_view_module": "@jupyter-widgets/base",
      "_view_module_version": "1.2.0",
      "_view_name": "StyleView",
      "description_width": ""
     }
    },
    "b9cb16031031497093fc05b58866de38": {
     "model_module": "@jupyter-widgets/controls",
     "model_module_version": "1.5.0",
     "model_name": "HTMLModel",
     "state": {
      "_dom_classes": [],
      "_model_module": "@jupyter-widgets/controls",
      "_model_module_version": "1.5.0",
      "_model_name": "HTMLModel",
      "_view_count": null,
      "_view_module": "@jupyter-widgets/controls",
      "_view_module_version": "1.5.0",
      "_view_name": "HTMLView",
      "description": "",
      "description_tooltip": null,
      "layout": "IPY_MODEL_84b68ac3c03e4b2c9637c8cba16fcbe9",
      "placeholder": "​",
      "style": "IPY_MODEL_c18b287f15734031a23fba7399dbd124",
      "value": "100%"
     }
    },
    "bb1b962262964c7ba00fc6c291d49190": {
     "model_module": "@jupyter-widgets/controls",
     "model_module_version": "1.5.0",
     "model_name": "DescriptionStyleModel",
     "state": {
      "_model_module": "@jupyter-widgets/controls",
      "_model_module_version": "1.5.0",
      "_model_name": "DescriptionStyleModel",
      "_view_count": null,
      "_view_module": "@jupyter-widgets/base",
      "_view_module_version": "1.2.0",
      "_view_name": "StyleView",
      "description_width": ""
     }
    },
    "bf14e297c5624d83ab9ca5bf6bddaa88": {
     "model_module": "@jupyter-widgets/base",
     "model_module_version": "1.2.0",
     "model_name": "LayoutModel",
     "state": {
      "_model_module": "@jupyter-widgets/base",
      "_model_module_version": "1.2.0",
      "_model_name": "LayoutModel",
      "_view_count": null,
      "_view_module": "@jupyter-widgets/base",
      "_view_module_version": "1.2.0",
      "_view_name": "LayoutView",
      "align_content": null,
      "align_items": null,
      "align_self": null,
      "border": null,
      "bottom": null,
      "display": null,
      "flex": null,
      "flex_flow": null,
      "grid_area": null,
      "grid_auto_columns": null,
      "grid_auto_flow": null,
      "grid_auto_rows": null,
      "grid_column": null,
      "grid_gap": null,
      "grid_row": null,
      "grid_template_areas": null,
      "grid_template_columns": null,
      "grid_template_rows": null,
      "height": null,
      "justify_content": null,
      "justify_items": null,
      "left": null,
      "margin": null,
      "max_height": null,
      "max_width": null,
      "min_height": null,
      "min_width": null,
      "object_fit": null,
      "object_position": null,
      "order": null,
      "overflow": null,
      "overflow_x": null,
      "overflow_y": null,
      "padding": null,
      "right": null,
      "top": null,
      "visibility": null,
      "width": null
     }
    },
    "c18b287f15734031a23fba7399dbd124": {
     "model_module": "@jupyter-widgets/controls",
     "model_module_version": "1.5.0",
     "model_name": "DescriptionStyleModel",
     "state": {
      "_model_module": "@jupyter-widgets/controls",
      "_model_module_version": "1.5.0",
      "_model_name": "DescriptionStyleModel",
      "_view_count": null,
      "_view_module": "@jupyter-widgets/base",
      "_view_module_version": "1.2.0",
      "_view_name": "StyleView",
      "description_width": ""
     }
    },
    "c4951d3f30584b83a5c61d2952085e28": {
     "model_module": "@jupyter-widgets/base",
     "model_module_version": "1.2.0",
     "model_name": "LayoutModel",
     "state": {
      "_model_module": "@jupyter-widgets/base",
      "_model_module_version": "1.2.0",
      "_model_name": "LayoutModel",
      "_view_count": null,
      "_view_module": "@jupyter-widgets/base",
      "_view_module_version": "1.2.0",
      "_view_name": "LayoutView",
      "align_content": null,
      "align_items": null,
      "align_self": null,
      "border": null,
      "bottom": null,
      "display": null,
      "flex": null,
      "flex_flow": null,
      "grid_area": null,
      "grid_auto_columns": null,
      "grid_auto_flow": null,
      "grid_auto_rows": null,
      "grid_column": null,
      "grid_gap": null,
      "grid_row": null,
      "grid_template_areas": null,
      "grid_template_columns": null,
      "grid_template_rows": null,
      "height": null,
      "justify_content": null,
      "justify_items": null,
      "left": null,
      "margin": null,
      "max_height": null,
      "max_width": null,
      "min_height": null,
      "min_width": null,
      "object_fit": null,
      "object_position": null,
      "order": null,
      "overflow": null,
      "overflow_x": null,
      "overflow_y": null,
      "padding": null,
      "right": null,
      "top": null,
      "visibility": null,
      "width": null
     }
    },
    "cf3dc2c912444246ba4b2b1a238d8cf8": {
     "model_module": "@jupyter-widgets/controls",
     "model_module_version": "1.5.0",
     "model_name": "ProgressStyleModel",
     "state": {
      "_model_module": "@jupyter-widgets/controls",
      "_model_module_version": "1.5.0",
      "_model_name": "ProgressStyleModel",
      "_view_count": null,
      "_view_module": "@jupyter-widgets/base",
      "_view_module_version": "1.2.0",
      "_view_name": "StyleView",
      "bar_color": null,
      "description_width": ""
     }
    },
    "d21c915467fa45fcb258452637cd4c78": {
     "model_module": "@jupyter-widgets/controls",
     "model_module_version": "1.5.0",
     "model_name": "HBoxModel",
     "state": {
      "_dom_classes": [],
      "_model_module": "@jupyter-widgets/controls",
      "_model_module_version": "1.5.0",
      "_model_name": "HBoxModel",
      "_view_count": null,
      "_view_module": "@jupyter-widgets/controls",
      "_view_module_version": "1.5.0",
      "_view_name": "HBoxView",
      "box_style": "",
      "children": [
       "IPY_MODEL_f691c8de741c43db953ab76edd2c4059",
       "IPY_MODEL_592d235c3bd542209fbcdc5c522a64a0",
       "IPY_MODEL_04396944e2404f1092f59c1e8422cd36"
      ],
      "layout": "IPY_MODEL_faa0392409de483a8f9251c6343a136d"
     }
    },
    "d414c181d06e42f09afe8f59e1cf4abd": {
     "model_module": "@jupyter-widgets/controls",
     "model_module_version": "1.5.0",
     "model_name": "DescriptionStyleModel",
     "state": {
      "_model_module": "@jupyter-widgets/controls",
      "_model_module_version": "1.5.0",
      "_model_name": "DescriptionStyleModel",
      "_view_count": null,
      "_view_module": "@jupyter-widgets/base",
      "_view_module_version": "1.2.0",
      "_view_name": "StyleView",
      "description_width": ""
     }
    },
    "d432d1f0afca443187e25ee67b151268": {
     "model_module": "@jupyter-widgets/base",
     "model_module_version": "1.2.0",
     "model_name": "LayoutModel",
     "state": {
      "_model_module": "@jupyter-widgets/base",
      "_model_module_version": "1.2.0",
      "_model_name": "LayoutModel",
      "_view_count": null,
      "_view_module": "@jupyter-widgets/base",
      "_view_module_version": "1.2.0",
      "_view_name": "LayoutView",
      "align_content": null,
      "align_items": null,
      "align_self": null,
      "border": null,
      "bottom": null,
      "display": null,
      "flex": null,
      "flex_flow": null,
      "grid_area": null,
      "grid_auto_columns": null,
      "grid_auto_flow": null,
      "grid_auto_rows": null,
      "grid_column": null,
      "grid_gap": null,
      "grid_row": null,
      "grid_template_areas": null,
      "grid_template_columns": null,
      "grid_template_rows": null,
      "height": null,
      "justify_content": null,
      "justify_items": null,
      "left": null,
      "margin": null,
      "max_height": null,
      "max_width": null,
      "min_height": null,
      "min_width": null,
      "object_fit": null,
      "object_position": null,
      "order": null,
      "overflow": null,
      "overflow_x": null,
      "overflow_y": null,
      "padding": null,
      "right": null,
      "top": null,
      "visibility": null,
      "width": null
     }
    },
    "d4a18b607e914014a5fff986d335b135": {
     "model_module": "@jupyter-widgets/controls",
     "model_module_version": "1.5.0",
     "model_name": "FloatProgressModel",
     "state": {
      "_dom_classes": [],
      "_model_module": "@jupyter-widgets/controls",
      "_model_module_version": "1.5.0",
      "_model_name": "FloatProgressModel",
      "_view_count": null,
      "_view_module": "@jupyter-widgets/controls",
      "_view_module_version": "1.5.0",
      "_view_name": "ProgressView",
      "bar_style": "",
      "description": "",
      "description_tooltip": null,
      "layout": "IPY_MODEL_939b275009c6431ba815e10c5b8a31ab",
      "max": 62,
      "min": 0,
      "orientation": "horizontal",
      "style": "IPY_MODEL_11bf9ce8b77442dfb4db59d431d020b5",
      "value": 62
     }
    },
    "d98f37c494ef4b98a49ac4f0ea0cf908": {
     "model_module": "@jupyter-widgets/controls",
     "model_module_version": "1.5.0",
     "model_name": "HBoxModel",
     "state": {
      "_dom_classes": [],
      "_model_module": "@jupyter-widgets/controls",
      "_model_module_version": "1.5.0",
      "_model_name": "HBoxModel",
      "_view_count": null,
      "_view_module": "@jupyter-widgets/controls",
      "_view_module_version": "1.5.0",
      "_view_name": "HBoxView",
      "box_style": "",
      "children": [
       "IPY_MODEL_4a767a50354841b089bb9f49b5099049",
       "IPY_MODEL_78bdbb2cd9d2408c952e774129879a6c",
       "IPY_MODEL_a240a33bed814c538f38526304a63e9e"
      ],
      "layout": "IPY_MODEL_92a409afe2ef4f7c9852933b963d07f3"
     }
    },
    "dff083c5beaf42a6946c7c71c91545a8": {
     "model_module": "@jupyter-widgets/controls",
     "model_module_version": "1.5.0",
     "model_name": "HTMLModel",
     "state": {
      "_dom_classes": [],
      "_model_module": "@jupyter-widgets/controls",
      "_model_module_version": "1.5.0",
      "_model_name": "HTMLModel",
      "_view_count": null,
      "_view_module": "@jupyter-widgets/controls",
      "_view_module_version": "1.5.0",
      "_view_name": "HTMLView",
      "description": "",
      "description_tooltip": null,
      "layout": "IPY_MODEL_e248c3e561d2431b9c9e963e9ffe7879",
      "placeholder": "​",
      "style": "IPY_MODEL_9fd735fbb47a4242bae5ae856a0ca642",
      "value": " 63/63 [00:43&lt;00:00,  1.60it/s]"
     }
    },
    "e17066cbe7094c25aacc4104bd7aa2a2": {
     "model_module": "@jupyter-widgets/controls",
     "model_module_version": "1.5.0",
     "model_name": "DescriptionStyleModel",
     "state": {
      "_model_module": "@jupyter-widgets/controls",
      "_model_module_version": "1.5.0",
      "_model_name": "DescriptionStyleModel",
      "_view_count": null,
      "_view_module": "@jupyter-widgets/base",
      "_view_module_version": "1.2.0",
      "_view_name": "StyleView",
      "description_width": ""
     }
    },
    "e248c3e561d2431b9c9e963e9ffe7879": {
     "model_module": "@jupyter-widgets/base",
     "model_module_version": "1.2.0",
     "model_name": "LayoutModel",
     "state": {
      "_model_module": "@jupyter-widgets/base",
      "_model_module_version": "1.2.0",
      "_model_name": "LayoutModel",
      "_view_count": null,
      "_view_module": "@jupyter-widgets/base",
      "_view_module_version": "1.2.0",
      "_view_name": "LayoutView",
      "align_content": null,
      "align_items": null,
      "align_self": null,
      "border": null,
      "bottom": null,
      "display": null,
      "flex": null,
      "flex_flow": null,
      "grid_area": null,
      "grid_auto_columns": null,
      "grid_auto_flow": null,
      "grid_auto_rows": null,
      "grid_column": null,
      "grid_gap": null,
      "grid_row": null,
      "grid_template_areas": null,
      "grid_template_columns": null,
      "grid_template_rows": null,
      "height": null,
      "justify_content": null,
      "justify_items": null,
      "left": null,
      "margin": null,
      "max_height": null,
      "max_width": null,
      "min_height": null,
      "min_width": null,
      "object_fit": null,
      "object_position": null,
      "order": null,
      "overflow": null,
      "overflow_x": null,
      "overflow_y": null,
      "padding": null,
      "right": null,
      "top": null,
      "visibility": null,
      "width": null
     }
    },
    "e25f58b676844963bdcfbfa2c40cff99": {
     "model_module": "@jupyter-widgets/controls",
     "model_module_version": "1.5.0",
     "model_name": "FloatProgressModel",
     "state": {
      "_dom_classes": [],
      "_model_module": "@jupyter-widgets/controls",
      "_model_module_version": "1.5.0",
      "_model_name": "FloatProgressModel",
      "_view_count": null,
      "_view_module": "@jupyter-widgets/controls",
      "_view_module_version": "1.5.0",
      "_view_name": "ProgressView",
      "bar_style": "",
      "description": "",
      "description_tooltip": null,
      "layout": "IPY_MODEL_c4951d3f30584b83a5c61d2952085e28",
      "max": 62,
      "min": 0,
      "orientation": "horizontal",
      "style": "IPY_MODEL_7d33231b32d24ddc979415e79dc8c059",
      "value": 62
     }
    },
    "e6df893b5d664431a96abe661c5a6a98": {
     "model_module": "@jupyter-widgets/controls",
     "model_module_version": "1.5.0",
     "model_name": "HBoxModel",
     "state": {
      "_dom_classes": [],
      "_model_module": "@jupyter-widgets/controls",
      "_model_module_version": "1.5.0",
      "_model_name": "HBoxModel",
      "_view_count": null,
      "_view_module": "@jupyter-widgets/controls",
      "_view_module_version": "1.5.0",
      "_view_name": "HBoxView",
      "box_style": "",
      "children": [
       "IPY_MODEL_af9181afa9f149d9964d41577a5b6c72",
       "IPY_MODEL_744b1c06997945e8a4a3b64ec67d6ac5",
       "IPY_MODEL_dff083c5beaf42a6946c7c71c91545a8"
      ],
      "layout": "IPY_MODEL_7e1f3e7439504f738680c5c8d3afefaf"
     }
    },
    "e71dd31e70a54a4bb2fd96e5058d7c0b": {
     "model_module": "@jupyter-widgets/controls",
     "model_module_version": "1.5.0",
     "model_name": "HTMLModel",
     "state": {
      "_dom_classes": [],
      "_model_module": "@jupyter-widgets/controls",
      "_model_module_version": "1.5.0",
      "_model_name": "HTMLModel",
      "_view_count": null,
      "_view_module": "@jupyter-widgets/controls",
      "_view_module_version": "1.5.0",
      "_view_name": "HTMLView",
      "description": "",
      "description_tooltip": null,
      "layout": "IPY_MODEL_624fdc1817a444d6b4c86f94d48cb5fb",
      "placeholder": "​",
      "style": "IPY_MODEL_6e385c78414e4c289030683c412e947b",
      "value": " 62/62 [00:52&lt;00:00,  1.19it/s]"
     }
    },
    "ea473a31e06a4d69aaffa71e26729cdf": {
     "model_module": "@jupyter-widgets/base",
     "model_module_version": "1.2.0",
     "model_name": "LayoutModel",
     "state": {
      "_model_module": "@jupyter-widgets/base",
      "_model_module_version": "1.2.0",
      "_model_name": "LayoutModel",
      "_view_count": null,
      "_view_module": "@jupyter-widgets/base",
      "_view_module_version": "1.2.0",
      "_view_name": "LayoutView",
      "align_content": null,
      "align_items": null,
      "align_self": null,
      "border": null,
      "bottom": null,
      "display": null,
      "flex": null,
      "flex_flow": null,
      "grid_area": null,
      "grid_auto_columns": null,
      "grid_auto_flow": null,
      "grid_auto_rows": null,
      "grid_column": null,
      "grid_gap": null,
      "grid_row": null,
      "grid_template_areas": null,
      "grid_template_columns": null,
      "grid_template_rows": null,
      "height": null,
      "justify_content": null,
      "justify_items": null,
      "left": null,
      "margin": null,
      "max_height": null,
      "max_width": null,
      "min_height": null,
      "min_width": null,
      "object_fit": null,
      "object_position": null,
      "order": null,
      "overflow": null,
      "overflow_x": null,
      "overflow_y": null,
      "padding": null,
      "right": null,
      "top": null,
      "visibility": "hidden",
      "width": null
     }
    },
    "f33169c3bbb943e8834814dde66ffb06": {
     "model_module": "@jupyter-widgets/controls",
     "model_module_version": "1.5.0",
     "model_name": "FloatProgressModel",
     "state": {
      "_dom_classes": [],
      "_model_module": "@jupyter-widgets/controls",
      "_model_module_version": "1.5.0",
      "_model_name": "FloatProgressModel",
      "_view_count": null,
      "_view_module": "@jupyter-widgets/controls",
      "_view_module_version": "1.5.0",
      "_view_name": "ProgressView",
      "bar_style": "",
      "description": "",
      "description_tooltip": null,
      "layout": "IPY_MODEL_8775b50c3ad5463d999e2033ee3c0b70",
      "max": 62,
      "min": 0,
      "orientation": "horizontal",
      "style": "IPY_MODEL_cf3dc2c912444246ba4b2b1a238d8cf8",
      "value": 62
     }
    },
    "f691c8de741c43db953ab76edd2c4059": {
     "model_module": "@jupyter-widgets/controls",
     "model_module_version": "1.5.0",
     "model_name": "HTMLModel",
     "state": {
      "_dom_classes": [],
      "_model_module": "@jupyter-widgets/controls",
      "_model_module_version": "1.5.0",
      "_model_name": "HTMLModel",
      "_view_count": null,
      "_view_module": "@jupyter-widgets/controls",
      "_view_module_version": "1.5.0",
      "_view_name": "HTMLView",
      "description": "",
      "description_tooltip": null,
      "layout": "IPY_MODEL_982fc7a605c24e8ba0078de70cc51d66",
      "placeholder": "​",
      "style": "IPY_MODEL_17f451c1e7a44f868dec067a0903b7a4",
      "value": "100%"
     }
    },
    "f923db702c324a41880445f6c4f9d251": {
     "model_module": "@jupyter-widgets/base",
     "model_module_version": "1.2.0",
     "model_name": "LayoutModel",
     "state": {
      "_model_module": "@jupyter-widgets/base",
      "_model_module_version": "1.2.0",
      "_model_name": "LayoutModel",
      "_view_count": null,
      "_view_module": "@jupyter-widgets/base",
      "_view_module_version": "1.2.0",
      "_view_name": "LayoutView",
      "align_content": null,
      "align_items": null,
      "align_self": null,
      "border": null,
      "bottom": null,
      "display": null,
      "flex": null,
      "flex_flow": null,
      "grid_area": null,
      "grid_auto_columns": null,
      "grid_auto_flow": null,
      "grid_auto_rows": null,
      "grid_column": null,
      "grid_gap": null,
      "grid_row": null,
      "grid_template_areas": null,
      "grid_template_columns": null,
      "grid_template_rows": null,
      "height": null,
      "justify_content": null,
      "justify_items": null,
      "left": null,
      "margin": null,
      "max_height": null,
      "max_width": null,
      "min_height": null,
      "min_width": null,
      "object_fit": null,
      "object_position": null,
      "order": null,
      "overflow": null,
      "overflow_x": null,
      "overflow_y": null,
      "padding": null,
      "right": null,
      "top": null,
      "visibility": "hidden",
      "width": null
     }
    },
    "faa0392409de483a8f9251c6343a136d": {
     "model_module": "@jupyter-widgets/base",
     "model_module_version": "1.2.0",
     "model_name": "LayoutModel",
     "state": {
      "_model_module": "@jupyter-widgets/base",
      "_model_module_version": "1.2.0",
      "_model_name": "LayoutModel",
      "_view_count": null,
      "_view_module": "@jupyter-widgets/base",
      "_view_module_version": "1.2.0",
      "_view_name": "LayoutView",
      "align_content": null,
      "align_items": null,
      "align_self": null,
      "border": null,
      "bottom": null,
      "display": null,
      "flex": null,
      "flex_flow": null,
      "grid_area": null,
      "grid_auto_columns": null,
      "grid_auto_flow": null,
      "grid_auto_rows": null,
      "grid_column": null,
      "grid_gap": null,
      "grid_row": null,
      "grid_template_areas": null,
      "grid_template_columns": null,
      "grid_template_rows": null,
      "height": null,
      "justify_content": null,
      "justify_items": null,
      "left": null,
      "margin": null,
      "max_height": null,
      "max_width": null,
      "min_height": null,
      "min_width": null,
      "object_fit": null,
      "object_position": null,
      "order": null,
      "overflow": null,
      "overflow_x": null,
      "overflow_y": null,
      "padding": null,
      "right": null,
      "top": null,
      "visibility": "hidden",
      "width": null
     }
    },
    "fe9935841bd14e4f8f9fe97c0aded680": {
     "model_module": "@jupyter-widgets/controls",
     "model_module_version": "1.5.0",
     "model_name": "DescriptionStyleModel",
     "state": {
      "_model_module": "@jupyter-widgets/controls",
      "_model_module_version": "1.5.0",
      "_model_name": "DescriptionStyleModel",
      "_view_count": null,
      "_view_module": "@jupyter-widgets/base",
      "_view_module_version": "1.2.0",
      "_view_name": "StyleView",
      "description_width": ""
     }
    }
   }
  }
 },
 "nbformat": 4,
 "nbformat_minor": 1
}
