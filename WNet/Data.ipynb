{
 "cells": [
  {
   "attachments": {},
   "cell_type": "markdown",
   "metadata": {
    "id": "ImLvfPvjQS98"
   },
   "source": [
    "# Data"
   ]
  },
  {
   "attachments": {},
   "cell_type": "markdown",
   "metadata": {
    "id": "32Bj9dpkNzoz"
   },
   "source": [
    "## Get Datasets"
   ]
  },
  {
   "attachments": {},
   "cell_type": "markdown",
   "metadata": {},
   "source": [
    "### Setup"
   ]
  },
  {
   "cell_type": "code",
   "execution_count": 1,
   "metadata": {
    "id": "vRv2EhoTMznp"
   },
   "outputs": [],
   "source": [
    "%cd ./data\n",
    "\n",
    "# If Dataset_Student has not been unzipped yet\n",
    "!unzip Dataset_Student_V2.zip"
   ]
  },
  {
   "cell_type": "code",
   "execution_count": 2,
   "metadata": {
    "id": "0GoTHb1UnE79"
   },
   "outputs": [],
   "source": [
    "import os\n",
    "import torch\n",
    "import numpy as np\n",
    "import tqdm.auto as tqdm\n",
    "import imageio.v3 as iio\n",
    "import matplotlib.pyplot as plt"
   ]
  },
  {
   "attachments": {},
   "cell_type": "markdown",
   "metadata": {},
   "source": [
    "### Train & Validation: Images + Masks"
   ]
  },
  {
   "cell_type": "code",
   "execution_count": 4,
   "metadata": {
    "id": "ZcWrdic5hW9n"
   },
   "outputs": [],
   "source": [
    "# Path for our data files (we are currently in ~/WNet/data)\n",
    "P = \"Dataset_Student\""
   ]
  },
  {
   "cell_type": "code",
   "execution_count": null,
   "metadata": {
    "id": "2rKoUnFzRc27"
   },
   "outputs": [],
   "source": [
    "#@title Images\n",
    "# Train\n",
    "imgs = torch.zeros([1000, 22, 160, 240, 3]) # Create tensor of correct size (1K 'videos' x 22 frames x H x W x color-channels)\n",
    "\n",
    "for path in tqdm.tqdm(os.listdir(f\"{P}/train/\")): # Iterate through all videos\n",
    "  temp = [] # Records video frames into a list of image tensors\n",
    "  for i in range(22): # Iterate through each frame\n",
    "    copy = np.copy(iio.imread(f\"{P}/train/{path}/image_{i}.png\")) # Read the image\n",
    "    temp.append(torch.Tensor(copy)) # Record frame\n",
    "  imgs[int(path.split(\"_\")[1])] = torch.stack(temp) # Place the image in the correct location (sorted)\n",
    "\n",
    "torch.save(imgs, 'imgs.pt') # Save image tensor in ~/WNet/data\n",
    "\n",
    "# Validation\n",
    "val_imgs = torch.zeros([1000, 22, 160, 240, 3]) # Create tensor of correct size (1K 'videos' x 22 frames x H x W x color-channels)\n",
    "\n",
    "for path in tqdm.tqdm(os.listdir(f\"{P}/val/\")): # Iterate through all videos\n",
    "  temp = [] # Records video frames into a list of image tensors\n",
    "  for i in range(22): # Iterate through each frame\n",
    "    copy = np.copy(iio.imread(f\"{P}/val/{path}/image_{i}.png\")) # Read the image\n",
    "    temp.append(torch.Tensor(copy)) # Record frame\n",
    "  val_imgs[int(path.split(\"_\")[1]) - 1000] = torch.stack(temp) # Place the image in the correct location (sorted)\n",
    "\n",
    "torch.save(val_imgs, 'val_imgs.pt') # Save image tensor in ~/WNet/data"
   ]
  },
  {
   "cell_type": "code",
   "execution_count": null,
   "metadata": {
    "colab": {
     "base_uri": "https://localhost:8080/",
     "height": 49,
     "referenced_widgets": [
      "b3a2baa425f54da69fa36238879a6c5d",
      "acbe37fe05b44a1ea60a344c26bf1458",
      "106cf414d09b4b0988a9370ca88e8ba9",
      "899f58776ffb4a4a91b85fec8009ce6d",
      "996eecba317042b19b2c5b0d66eb9597",
      "8ffa1a7b373644bb944d9306bb34cfc6",
      "1982f70d0e524376a23a01e74910216e",
      "f82be2b6ea1a476cbd754dd958d692e7",
      "19871eb4f81d4e388dd6b57edec207b9",
      "cc7366b20ac3424ab66666124473052e",
      "654dd7a146a34aafa461bff0523246b2"
     ]
    },
    "executionInfo": {
     "elapsed": 8037,
     "status": "ok",
     "timestamp": 1682280712127,
     "user": {
      "displayName": "Leo Dupire",
      "userId": "02301275893739117839"
     },
     "user_tz": 240
    },
    "id": "AgN95lGlWvYW",
    "outputId": "a483c033-c8b8-4fab-9b2b-cfa1c4df60ce"
   },
   "outputs": [],
   "source": [
    "#@title Masks\n",
    "# Train\n",
    "masks = list(range(1000)) \n",
    "for path in tqdm.tqdm(os.listdir(f\"{P}/train/\")): # Iterate through all videos\n",
    "  masks[int(path.split(\"_\")[1]) - 1000] = torch.Tensor(np.load(f\"{P}/train/{path}/mask.npy\")) # Record masks for this video\n",
    "masks = torch.stack(masks) # Stack these video masks\n",
    "torch.save(masks, 'masks.pt') # Save masks\n",
    "\n",
    "# Validation\n",
    "val_masks = list(range(1000))\n",
    "for path in tqdm.tqdm(os.listdir(f\"{P}/val/\")): # Iterate through all videos\n",
    "  val_masks[int(path.split(\"_\")[1]) - 1000] = torch.Tensor(np.load(f\"{P}/val/{path}/mask.npy\")) # Record masks for this video\n",
    "val_masks = torch.stack(val_masks) # Stack these video masks\n",
    "torch.save(val_masks, 'val_masks.pt') # Save masks"
   ]
  },
  {
   "cell_type": "code",
   "execution_count": null,
   "metadata": {
    "colab": {
     "base_uri": "https://localhost:8080/"
    },
    "executionInfo": {
     "elapsed": 22,
     "status": "ok",
     "timestamp": 1682277718515,
     "user": {
      "displayName": "Leo Dupire",
      "userId": "02301275893739117839"
     },
     "user_tz": 240
    },
    "id": "Ts_iFKwtRNRV",
    "outputId": "922dd121-2a68-4de6-bc88-1ac047f892cc"
   },
   "outputs": [],
   "source": [
    "# Print shapes of tensors\n",
    "print(\"Train imgs:\", imgs.shape)\n",
    "print(\"Val imgs:\", val_imgs.shape)\n",
    "print()\n",
    "print(\"Train masks:\", masks.shape)\n",
    "print(\"Val masks:\", val_masks.shape)"
   ]
  },
  {
   "attachments": {},
   "cell_type": "markdown",
   "metadata": {},
   "source": [
    "### Unlabeled Data - Not Recommended\n",
    "\n",
    "If limited by memory, please follow the Lazy Loading instructions in [`Masker.ipynb`](./Masker.ipynb)."
   ]
  },
  {
   "cell_type": "code",
   "execution_count": null,
   "metadata": {},
   "outputs": [],
   "source": [
    "# Get sorted unlabeled video directories\n",
    "dir_list = os.listdir(f\"{P}/unlabeled/\")\n",
    "lst1 = [x for x in dir_list if len(x) == 10]\n",
    "lst2 = [x for x in dir_list if len(x) == 11]\n",
    "lst1.sort()\n",
    "lst2.sort()\n",
    "dirs = lst1 + lst2 # This 'dirs' list containes the sorted video directories for the unlabeled data"
   ]
  },
  {
   "cell_type": "code",
   "execution_count": null,
   "metadata": {
    "id": "Oz7zpyBzjh2g"
   },
   "outputs": [],
   "source": [
    "#@title Unlabeled Images\n",
    "unlabeled_imgs = torch.zeros([2600, 21, 160, 240, 3]) #list(range(13000))\n",
    "for path in tqdm.tqdm(os.listdir(f\"{P}/unlabeled/\")):\n",
    "  temp = []\n",
    "  for i in range(22):\n",
    "    copy = np.copy(torch.Tensor(iio.imread(f\"{P}/unlabeled/{path}/image_{i}.png\")))\n",
    "    temp.append(torch.Tensor(copy))\n",
    "  unlabeled_imgs[int(path.split(\"_\")[1])-2000] = torch.stack(temp)\n",
    "torch.save(unlabeled_imgs, 'unlabeled_imgs.pt')"
   ]
  },
  {
   "attachments": {},
   "cell_type": "markdown",
   "metadata": {},
   "source": [
    "### Hidden/Test Data for Final Submission"
   ]
  },
  {
   "cell_type": "code",
   "execution_count": null,
   "metadata": {
    "colab": {
     "base_uri": "https://localhost:8080/",
     "height": 49,
     "referenced_widgets": [
      "0de305edd25649fab1977b5981592a9d",
      "426dd27d11774e0b8303e5ece0894ed5",
      "c478604fb6b049ca8915ccdab387a478",
      "f8cc7e9b86984ec3aed28f3366ec2276",
      "7b01bd18ace84663adfa07634ca7e68f",
      "d8f73374f0e54128b84b7ce3a277cf01",
      "ac57a1a5c4b74880a511b94979409c6e",
      "d2c7f22e0aa347849ea3e9baf24850bb",
      "271dbcddbb4f4d4c955bd0078ddbf66b",
      "87b0fc24c13b47f1b18ce1416262bb05",
      "000f43f81c864cd9b16bd4f99455ff3f"
     ]
    },
    "executionInfo": {
     "elapsed": 82172,
     "status": "ok",
     "timestamp": 1682476444885,
     "user": {
      "displayName": "Leo Dupire",
      "userId": "02301275893739117839"
     },
     "user_tz": 240
    },
    "id": "-tud4bqBY8Me",
    "outputId": "32d56aad-25e9-4a34-f8d5-d4e8435cdb45"
   },
   "outputs": [],
   "source": [
    "# @title SUBMISSION Images\n",
    "# This code turns the hidden submission images into a tensor - assuming 'hidden' is in ~/WNet/data\n",
    "P_h = \"hidden\" # hidden images folder name\n",
    "\n",
    "hidden_imgs = list(range(2000)) # 2K images\n",
    "for path in tqdm.tqdm(os.listdir(f\"{P_h}/\")):\n",
    "  temp = []\n",
    "  for i in range(11): # Only 11 images in the hidden set\n",
    "    copy = np.copy(torch.Tensor(iio.imread(f\"{P_h}/{path}/image_{i}.png\")))\n",
    "    temp.append(torch.Tensor(copy))\n",
    "  hidden_imgs[int(path.split(\"_\")[1])-15000] = torch.stack(temp)\n",
    "hidden_imgs = torch.stack(hidden_imgs).to(int)\n",
    "\n",
    "torch.save(hidden_imgs, 'hidden_imgs.pt') # Save tensor"
   ]
  },
  {
   "attachments": {},
   "cell_type": "markdown",
   "metadata": {
    "id": "Ul_qylrSTFst"
   },
   "source": [
    "## Visualizations"
   ]
  },
  {
   "cell_type": "code",
   "execution_count": null,
   "metadata": {},
   "outputs": [],
   "source": [
    "fig, axes = plt.subplots(1, 2, figsize=(6.4*2, 4.8))\n",
    "axes[0].imshow(imgs[0][0])\n",
    "axes[1].imshow(masks[0][0])\n",
    "plt.show()"
   ]
  },
  {
   "cell_type": "code",
   "execution_count": null,
   "metadata": {
    "colab": {
     "base_uri": "https://localhost:8080/",
     "height": 413
    },
    "executionInfo": {
     "elapsed": 122,
     "status": "ok",
     "timestamp": 1682259084953,
     "user": {
      "displayName": "Leo Dupire",
      "userId": "02301275893739117839"
     },
     "user_tz": 240
    },
    "id": "6wcjH8TBqTkS",
    "outputId": "4d4a544e-06bc-4118-abd8-58d326323866"
   },
   "outputs": [],
   "source": [
    "img = iio.imread(\"Dataset_Student/train/video_0/image_0.png\")\n",
    "plt.imshow(img)"
   ]
  },
  {
   "cell_type": "code",
   "execution_count": null,
   "metadata": {
    "colab": {
     "base_uri": "https://localhost:8080/",
     "height": 430
    },
    "executionInfo": {
     "elapsed": 725,
     "status": "ok",
     "timestamp": 1682138279776,
     "user": {
      "displayName": "Leo Dupire",
      "userId": "02301275893739117839"
     },
     "user_tz": 240
    },
    "id": "rTY_t6_RrZss",
    "outputId": "2aeeea32-3ad4-483a-abf4-e24a080a83c8"
   },
   "outputs": [],
   "source": [
    "plt.hist(img.mean(-1).reshape(-1),bins=256)\n",
    "plt.show()"
   ]
  },
  {
   "cell_type": "code",
   "execution_count": null,
   "metadata": {
    "colab": {
     "base_uri": "https://localhost:8080/",
     "height": 395
    },
    "executionInfo": {
     "elapsed": 601,
     "status": "ok",
     "timestamp": 1682138285754,
     "user": {
      "displayName": "Leo Dupire",
      "userId": "02301275893739117839"
     },
     "user_tz": 240
    },
    "id": "TgCvfgcLq96s",
    "outputId": "c00cd035-672a-41bf-bf56-42ba960dd9b2"
   },
   "outputs": [],
   "source": [
    "plt.imshow(img.mean(-1),cmap='Greys')\n",
    "plt.show()"
   ]
  }
 ],
 "metadata": {
  "colab": {
   "provenance": []
  },
  "gpuClass": "premium",
  "kernelspec": {
   "display_name": "Python 3 (ipykernel)",
   "language": "python",
   "name": "python3"
  },
  "language_info": {
   "codemirror_mode": {
    "name": "ipython",
    "version": 3
   },
   "file_extension": ".py",
   "mimetype": "text/x-python",
   "name": "python",
   "nbconvert_exporter": "python",
   "pygments_lexer": "ipython3",
   "version": "3.10.6"
  },
  "widgets": {
   "application/vnd.jupyter.widget-state+json": {
    "000f43f81c864cd9b16bd4f99455ff3f": {
     "model_module": "@jupyter-widgets/controls",
     "model_module_version": "1.5.0",
     "model_name": "DescriptionStyleModel",
     "state": {
      "_model_module": "@jupyter-widgets/controls",
      "_model_module_version": "1.5.0",
      "_model_name": "DescriptionStyleModel",
      "_view_count": null,
      "_view_module": "@jupyter-widgets/base",
      "_view_module_version": "1.2.0",
      "_view_name": "StyleView",
      "description_width": ""
     }
    },
    "0de305edd25649fab1977b5981592a9d": {
     "model_module": "@jupyter-widgets/controls",
     "model_module_version": "1.5.0",
     "model_name": "HBoxModel",
     "state": {
      "_dom_classes": [],
      "_model_module": "@jupyter-widgets/controls",
      "_model_module_version": "1.5.0",
      "_model_name": "HBoxModel",
      "_view_count": null,
      "_view_module": "@jupyter-widgets/controls",
      "_view_module_version": "1.5.0",
      "_view_name": "HBoxView",
      "box_style": "",
      "children": [
       "IPY_MODEL_426dd27d11774e0b8303e5ece0894ed5",
       "IPY_MODEL_c478604fb6b049ca8915ccdab387a478",
       "IPY_MODEL_f8cc7e9b86984ec3aed28f3366ec2276"
      ],
      "layout": "IPY_MODEL_7b01bd18ace84663adfa07634ca7e68f"
     }
    },
    "106cf414d09b4b0988a9370ca88e8ba9": {
     "model_module": "@jupyter-widgets/controls",
     "model_module_version": "1.5.0",
     "model_name": "FloatProgressModel",
     "state": {
      "_dom_classes": [],
      "_model_module": "@jupyter-widgets/controls",
      "_model_module_version": "1.5.0",
      "_model_name": "FloatProgressModel",
      "_view_count": null,
      "_view_module": "@jupyter-widgets/controls",
      "_view_module_version": "1.5.0",
      "_view_name": "ProgressView",
      "bar_style": "success",
      "description": "",
      "description_tooltip": null,
      "layout": "IPY_MODEL_f82be2b6ea1a476cbd754dd958d692e7",
      "max": 1000,
      "min": 0,
      "orientation": "horizontal",
      "style": "IPY_MODEL_19871eb4f81d4e388dd6b57edec207b9",
      "value": 1000
     }
    },
    "1982f70d0e524376a23a01e74910216e": {
     "model_module": "@jupyter-widgets/controls",
     "model_module_version": "1.5.0",
     "model_name": "DescriptionStyleModel",
     "state": {
      "_model_module": "@jupyter-widgets/controls",
      "_model_module_version": "1.5.0",
      "_model_name": "DescriptionStyleModel",
      "_view_count": null,
      "_view_module": "@jupyter-widgets/base",
      "_view_module_version": "1.2.0",
      "_view_name": "StyleView",
      "description_width": ""
     }
    },
    "19871eb4f81d4e388dd6b57edec207b9": {
     "model_module": "@jupyter-widgets/controls",
     "model_module_version": "1.5.0",
     "model_name": "ProgressStyleModel",
     "state": {
      "_model_module": "@jupyter-widgets/controls",
      "_model_module_version": "1.5.0",
      "_model_name": "ProgressStyleModel",
      "_view_count": null,
      "_view_module": "@jupyter-widgets/base",
      "_view_module_version": "1.2.0",
      "_view_name": "StyleView",
      "bar_color": null,
      "description_width": ""
     }
    },
    "271dbcddbb4f4d4c955bd0078ddbf66b": {
     "model_module": "@jupyter-widgets/controls",
     "model_module_version": "1.5.0",
     "model_name": "ProgressStyleModel",
     "state": {
      "_model_module": "@jupyter-widgets/controls",
      "_model_module_version": "1.5.0",
      "_model_name": "ProgressStyleModel",
      "_view_count": null,
      "_view_module": "@jupyter-widgets/base",
      "_view_module_version": "1.2.0",
      "_view_name": "StyleView",
      "bar_color": null,
      "description_width": ""
     }
    },
    "426dd27d11774e0b8303e5ece0894ed5": {
     "model_module": "@jupyter-widgets/controls",
     "model_module_version": "1.5.0",
     "model_name": "HTMLModel",
     "state": {
      "_dom_classes": [],
      "_model_module": "@jupyter-widgets/controls",
      "_model_module_version": "1.5.0",
      "_model_name": "HTMLModel",
      "_view_count": null,
      "_view_module": "@jupyter-widgets/controls",
      "_view_module_version": "1.5.0",
      "_view_name": "HTMLView",
      "description": "",
      "description_tooltip": null,
      "layout": "IPY_MODEL_d8f73374f0e54128b84b7ce3a277cf01",
      "placeholder": "​",
      "style": "IPY_MODEL_ac57a1a5c4b74880a511b94979409c6e",
      "value": "100%"
     }
    },
    "654dd7a146a34aafa461bff0523246b2": {
     "model_module": "@jupyter-widgets/controls",
     "model_module_version": "1.5.0",
     "model_name": "DescriptionStyleModel",
     "state": {
      "_model_module": "@jupyter-widgets/controls",
      "_model_module_version": "1.5.0",
      "_model_name": "DescriptionStyleModel",
      "_view_count": null,
      "_view_module": "@jupyter-widgets/base",
      "_view_module_version": "1.2.0",
      "_view_name": "StyleView",
      "description_width": ""
     }
    },
    "7b01bd18ace84663adfa07634ca7e68f": {
     "model_module": "@jupyter-widgets/base",
     "model_module_version": "1.2.0",
     "model_name": "LayoutModel",
     "state": {
      "_model_module": "@jupyter-widgets/base",
      "_model_module_version": "1.2.0",
      "_model_name": "LayoutModel",
      "_view_count": null,
      "_view_module": "@jupyter-widgets/base",
      "_view_module_version": "1.2.0",
      "_view_name": "LayoutView",
      "align_content": null,
      "align_items": null,
      "align_self": null,
      "border": null,
      "bottom": null,
      "display": null,
      "flex": null,
      "flex_flow": null,
      "grid_area": null,
      "grid_auto_columns": null,
      "grid_auto_flow": null,
      "grid_auto_rows": null,
      "grid_column": null,
      "grid_gap": null,
      "grid_row": null,
      "grid_template_areas": null,
      "grid_template_columns": null,
      "grid_template_rows": null,
      "height": null,
      "justify_content": null,
      "justify_items": null,
      "left": null,
      "margin": null,
      "max_height": null,
      "max_width": null,
      "min_height": null,
      "min_width": null,
      "object_fit": null,
      "object_position": null,
      "order": null,
      "overflow": null,
      "overflow_x": null,
      "overflow_y": null,
      "padding": null,
      "right": null,
      "top": null,
      "visibility": null,
      "width": null
     }
    },
    "87b0fc24c13b47f1b18ce1416262bb05": {
     "model_module": "@jupyter-widgets/base",
     "model_module_version": "1.2.0",
     "model_name": "LayoutModel",
     "state": {
      "_model_module": "@jupyter-widgets/base",
      "_model_module_version": "1.2.0",
      "_model_name": "LayoutModel",
      "_view_count": null,
      "_view_module": "@jupyter-widgets/base",
      "_view_module_version": "1.2.0",
      "_view_name": "LayoutView",
      "align_content": null,
      "align_items": null,
      "align_self": null,
      "border": null,
      "bottom": null,
      "display": null,
      "flex": null,
      "flex_flow": null,
      "grid_area": null,
      "grid_auto_columns": null,
      "grid_auto_flow": null,
      "grid_auto_rows": null,
      "grid_column": null,
      "grid_gap": null,
      "grid_row": null,
      "grid_template_areas": null,
      "grid_template_columns": null,
      "grid_template_rows": null,
      "height": null,
      "justify_content": null,
      "justify_items": null,
      "left": null,
      "margin": null,
      "max_height": null,
      "max_width": null,
      "min_height": null,
      "min_width": null,
      "object_fit": null,
      "object_position": null,
      "order": null,
      "overflow": null,
      "overflow_x": null,
      "overflow_y": null,
      "padding": null,
      "right": null,
      "top": null,
      "visibility": null,
      "width": null
     }
    },
    "899f58776ffb4a4a91b85fec8009ce6d": {
     "model_module": "@jupyter-widgets/controls",
     "model_module_version": "1.5.0",
     "model_name": "HTMLModel",
     "state": {
      "_dom_classes": [],
      "_model_module": "@jupyter-widgets/controls",
      "_model_module_version": "1.5.0",
      "_model_name": "HTMLModel",
      "_view_count": null,
      "_view_module": "@jupyter-widgets/controls",
      "_view_module_version": "1.5.0",
      "_view_name": "HTMLView",
      "description": "",
      "description_tooltip": null,
      "layout": "IPY_MODEL_cc7366b20ac3424ab66666124473052e",
      "placeholder": "​",
      "style": "IPY_MODEL_654dd7a146a34aafa461bff0523246b2",
      "value": " 1000/1000 [00:01&lt;00:00, 600.94it/s]"
     }
    },
    "8ffa1a7b373644bb944d9306bb34cfc6": {
     "model_module": "@jupyter-widgets/base",
     "model_module_version": "1.2.0",
     "model_name": "LayoutModel",
     "state": {
      "_model_module": "@jupyter-widgets/base",
      "_model_module_version": "1.2.0",
      "_model_name": "LayoutModel",
      "_view_count": null,
      "_view_module": "@jupyter-widgets/base",
      "_view_module_version": "1.2.0",
      "_view_name": "LayoutView",
      "align_content": null,
      "align_items": null,
      "align_self": null,
      "border": null,
      "bottom": null,
      "display": null,
      "flex": null,
      "flex_flow": null,
      "grid_area": null,
      "grid_auto_columns": null,
      "grid_auto_flow": null,
      "grid_auto_rows": null,
      "grid_column": null,
      "grid_gap": null,
      "grid_row": null,
      "grid_template_areas": null,
      "grid_template_columns": null,
      "grid_template_rows": null,
      "height": null,
      "justify_content": null,
      "justify_items": null,
      "left": null,
      "margin": null,
      "max_height": null,
      "max_width": null,
      "min_height": null,
      "min_width": null,
      "object_fit": null,
      "object_position": null,
      "order": null,
      "overflow": null,
      "overflow_x": null,
      "overflow_y": null,
      "padding": null,
      "right": null,
      "top": null,
      "visibility": null,
      "width": null
     }
    },
    "996eecba317042b19b2c5b0d66eb9597": {
     "model_module": "@jupyter-widgets/base",
     "model_module_version": "1.2.0",
     "model_name": "LayoutModel",
     "state": {
      "_model_module": "@jupyter-widgets/base",
      "_model_module_version": "1.2.0",
      "_model_name": "LayoutModel",
      "_view_count": null,
      "_view_module": "@jupyter-widgets/base",
      "_view_module_version": "1.2.0",
      "_view_name": "LayoutView",
      "align_content": null,
      "align_items": null,
      "align_self": null,
      "border": null,
      "bottom": null,
      "display": null,
      "flex": null,
      "flex_flow": null,
      "grid_area": null,
      "grid_auto_columns": null,
      "grid_auto_flow": null,
      "grid_auto_rows": null,
      "grid_column": null,
      "grid_gap": null,
      "grid_row": null,
      "grid_template_areas": null,
      "grid_template_columns": null,
      "grid_template_rows": null,
      "height": null,
      "justify_content": null,
      "justify_items": null,
      "left": null,
      "margin": null,
      "max_height": null,
      "max_width": null,
      "min_height": null,
      "min_width": null,
      "object_fit": null,
      "object_position": null,
      "order": null,
      "overflow": null,
      "overflow_x": null,
      "overflow_y": null,
      "padding": null,
      "right": null,
      "top": null,
      "visibility": null,
      "width": null
     }
    },
    "ac57a1a5c4b74880a511b94979409c6e": {
     "model_module": "@jupyter-widgets/controls",
     "model_module_version": "1.5.0",
     "model_name": "DescriptionStyleModel",
     "state": {
      "_model_module": "@jupyter-widgets/controls",
      "_model_module_version": "1.5.0",
      "_model_name": "DescriptionStyleModel",
      "_view_count": null,
      "_view_module": "@jupyter-widgets/base",
      "_view_module_version": "1.2.0",
      "_view_name": "StyleView",
      "description_width": ""
     }
    },
    "acbe37fe05b44a1ea60a344c26bf1458": {
     "model_module": "@jupyter-widgets/controls",
     "model_module_version": "1.5.0",
     "model_name": "HTMLModel",
     "state": {
      "_dom_classes": [],
      "_model_module": "@jupyter-widgets/controls",
      "_model_module_version": "1.5.0",
      "_model_name": "HTMLModel",
      "_view_count": null,
      "_view_module": "@jupyter-widgets/controls",
      "_view_module_version": "1.5.0",
      "_view_name": "HTMLView",
      "description": "",
      "description_tooltip": null,
      "layout": "IPY_MODEL_8ffa1a7b373644bb944d9306bb34cfc6",
      "placeholder": "​",
      "style": "IPY_MODEL_1982f70d0e524376a23a01e74910216e",
      "value": "100%"
     }
    },
    "b3a2baa425f54da69fa36238879a6c5d": {
     "model_module": "@jupyter-widgets/controls",
     "model_module_version": "1.5.0",
     "model_name": "HBoxModel",
     "state": {
      "_dom_classes": [],
      "_model_module": "@jupyter-widgets/controls",
      "_model_module_version": "1.5.0",
      "_model_name": "HBoxModel",
      "_view_count": null,
      "_view_module": "@jupyter-widgets/controls",
      "_view_module_version": "1.5.0",
      "_view_name": "HBoxView",
      "box_style": "",
      "children": [
       "IPY_MODEL_acbe37fe05b44a1ea60a344c26bf1458",
       "IPY_MODEL_106cf414d09b4b0988a9370ca88e8ba9",
       "IPY_MODEL_899f58776ffb4a4a91b85fec8009ce6d"
      ],
      "layout": "IPY_MODEL_996eecba317042b19b2c5b0d66eb9597"
     }
    },
    "c478604fb6b049ca8915ccdab387a478": {
     "model_module": "@jupyter-widgets/controls",
     "model_module_version": "1.5.0",
     "model_name": "FloatProgressModel",
     "state": {
      "_dom_classes": [],
      "_model_module": "@jupyter-widgets/controls",
      "_model_module_version": "1.5.0",
      "_model_name": "FloatProgressModel",
      "_view_count": null,
      "_view_module": "@jupyter-widgets/controls",
      "_view_module_version": "1.5.0",
      "_view_name": "ProgressView",
      "bar_style": "success",
      "description": "",
      "description_tooltip": null,
      "layout": "IPY_MODEL_d2c7f22e0aa347849ea3e9baf24850bb",
      "max": 2000,
      "min": 0,
      "orientation": "horizontal",
      "style": "IPY_MODEL_271dbcddbb4f4d4c955bd0078ddbf66b",
      "value": 2000
     }
    },
    "cc7366b20ac3424ab66666124473052e": {
     "model_module": "@jupyter-widgets/base",
     "model_module_version": "1.2.0",
     "model_name": "LayoutModel",
     "state": {
      "_model_module": "@jupyter-widgets/base",
      "_model_module_version": "1.2.0",
      "_model_name": "LayoutModel",
      "_view_count": null,
      "_view_module": "@jupyter-widgets/base",
      "_view_module_version": "1.2.0",
      "_view_name": "LayoutView",
      "align_content": null,
      "align_items": null,
      "align_self": null,
      "border": null,
      "bottom": null,
      "display": null,
      "flex": null,
      "flex_flow": null,
      "grid_area": null,
      "grid_auto_columns": null,
      "grid_auto_flow": null,
      "grid_auto_rows": null,
      "grid_column": null,
      "grid_gap": null,
      "grid_row": null,
      "grid_template_areas": null,
      "grid_template_columns": null,
      "grid_template_rows": null,
      "height": null,
      "justify_content": null,
      "justify_items": null,
      "left": null,
      "margin": null,
      "max_height": null,
      "max_width": null,
      "min_height": null,
      "min_width": null,
      "object_fit": null,
      "object_position": null,
      "order": null,
      "overflow": null,
      "overflow_x": null,
      "overflow_y": null,
      "padding": null,
      "right": null,
      "top": null,
      "visibility": null,
      "width": null
     }
    },
    "d2c7f22e0aa347849ea3e9baf24850bb": {
     "model_module": "@jupyter-widgets/base",
     "model_module_version": "1.2.0",
     "model_name": "LayoutModel",
     "state": {
      "_model_module": "@jupyter-widgets/base",
      "_model_module_version": "1.2.0",
      "_model_name": "LayoutModel",
      "_view_count": null,
      "_view_module": "@jupyter-widgets/base",
      "_view_module_version": "1.2.0",
      "_view_name": "LayoutView",
      "align_content": null,
      "align_items": null,
      "align_self": null,
      "border": null,
      "bottom": null,
      "display": null,
      "flex": null,
      "flex_flow": null,
      "grid_area": null,
      "grid_auto_columns": null,
      "grid_auto_flow": null,
      "grid_auto_rows": null,
      "grid_column": null,
      "grid_gap": null,
      "grid_row": null,
      "grid_template_areas": null,
      "grid_template_columns": null,
      "grid_template_rows": null,
      "height": null,
      "justify_content": null,
      "justify_items": null,
      "left": null,
      "margin": null,
      "max_height": null,
      "max_width": null,
      "min_height": null,
      "min_width": null,
      "object_fit": null,
      "object_position": null,
      "order": null,
      "overflow": null,
      "overflow_x": null,
      "overflow_y": null,
      "padding": null,
      "right": null,
      "top": null,
      "visibility": null,
      "width": null
     }
    },
    "d8f73374f0e54128b84b7ce3a277cf01": {
     "model_module": "@jupyter-widgets/base",
     "model_module_version": "1.2.0",
     "model_name": "LayoutModel",
     "state": {
      "_model_module": "@jupyter-widgets/base",
      "_model_module_version": "1.2.0",
      "_model_name": "LayoutModel",
      "_view_count": null,
      "_view_module": "@jupyter-widgets/base",
      "_view_module_version": "1.2.0",
      "_view_name": "LayoutView",
      "align_content": null,
      "align_items": null,
      "align_self": null,
      "border": null,
      "bottom": null,
      "display": null,
      "flex": null,
      "flex_flow": null,
      "grid_area": null,
      "grid_auto_columns": null,
      "grid_auto_flow": null,
      "grid_auto_rows": null,
      "grid_column": null,
      "grid_gap": null,
      "grid_row": null,
      "grid_template_areas": null,
      "grid_template_columns": null,
      "grid_template_rows": null,
      "height": null,
      "justify_content": null,
      "justify_items": null,
      "left": null,
      "margin": null,
      "max_height": null,
      "max_width": null,
      "min_height": null,
      "min_width": null,
      "object_fit": null,
      "object_position": null,
      "order": null,
      "overflow": null,
      "overflow_x": null,
      "overflow_y": null,
      "padding": null,
      "right": null,
      "top": null,
      "visibility": null,
      "width": null
     }
    },
    "f82be2b6ea1a476cbd754dd958d692e7": {
     "model_module": "@jupyter-widgets/base",
     "model_module_version": "1.2.0",
     "model_name": "LayoutModel",
     "state": {
      "_model_module": "@jupyter-widgets/base",
      "_model_module_version": "1.2.0",
      "_model_name": "LayoutModel",
      "_view_count": null,
      "_view_module": "@jupyter-widgets/base",
      "_view_module_version": "1.2.0",
      "_view_name": "LayoutView",
      "align_content": null,
      "align_items": null,
      "align_self": null,
      "border": null,
      "bottom": null,
      "display": null,
      "flex": null,
      "flex_flow": null,
      "grid_area": null,
      "grid_auto_columns": null,
      "grid_auto_flow": null,
      "grid_auto_rows": null,
      "grid_column": null,
      "grid_gap": null,
      "grid_row": null,
      "grid_template_areas": null,
      "grid_template_columns": null,
      "grid_template_rows": null,
      "height": null,
      "justify_content": null,
      "justify_items": null,
      "left": null,
      "margin": null,
      "max_height": null,
      "max_width": null,
      "min_height": null,
      "min_width": null,
      "object_fit": null,
      "object_position": null,
      "order": null,
      "overflow": null,
      "overflow_x": null,
      "overflow_y": null,
      "padding": null,
      "right": null,
      "top": null,
      "visibility": null,
      "width": null
     }
    },
    "f8cc7e9b86984ec3aed28f3366ec2276": {
     "model_module": "@jupyter-widgets/controls",
     "model_module_version": "1.5.0",
     "model_name": "HTMLModel",
     "state": {
      "_dom_classes": [],
      "_model_module": "@jupyter-widgets/controls",
      "_model_module_version": "1.5.0",
      "_model_name": "HTMLModel",
      "_view_count": null,
      "_view_module": "@jupyter-widgets/controls",
      "_view_module_version": "1.5.0",
      "_view_name": "HTMLView",
      "description": "",
      "description_tooltip": null,
      "layout": "IPY_MODEL_87b0fc24c13b47f1b18ce1416262bb05",
      "placeholder": "​",
      "style": "IPY_MODEL_000f43f81c864cd9b16bd4f99455ff3f",
      "value": " 2000/2000 [00:33&lt;00:00, 54.22it/s]"
     }
    }
   }
  }
 },
 "nbformat": 4,
 "nbformat_minor": 1
}
